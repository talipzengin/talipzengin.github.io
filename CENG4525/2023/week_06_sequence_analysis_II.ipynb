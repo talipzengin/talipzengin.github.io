{
 "cells": [
  {
   "cell_type": "markdown",
   "metadata": {},
   "source": [
    "# Week VI: Sequence Analysis II - Sequence Alignments & Phylogenetics"
   ]
  },
  {
   "cell_type": "markdown",
   "metadata": {},
   "source": [
    "## Sequence Alignment"
   ]
  },
  {
   "cell_type": "markdown",
   "metadata": {},
   "source": [
    "One of the fundamental challenges in bioinformatics involves assessing the similarity between biological sequences. This task has various applications, such as deducing the biological function of a novel protein sequence, determining the source organism of a given DNA sequence, and engaging in molecular phylogenetics to formulate hypotheses about the relationships between organisms. At first glance, this may appear to be a straightforward problem, seemingly not warranting decades of research or becoming the focus of one of the most cited papers in modern biology."
   ]
  },
  {
   "cell_type": "markdown",
   "metadata": {},
   "source": [
    "### Alignment Tools"
   ]
  },
  {
   "cell_type": "markdown",
   "metadata": {},
   "source": [
    "Numerous algorithms exist for aligning sequences, encompassing both _pairwise alignments_ and _multiple sequence alignments_. These computations are generally time-intensive, making it impractical to implement such algorithms directly in Python. For pairwise alignments, Biopython provides the `PairwiseAligner` module. Additionally, Biopython allows you to execute command line tools seamlessly. Typically, the process involves:\n",
    "\n",
    "1. Preparing an input file containing your unaligned sequences, often formatted as a FASTA file, which you can create using `Bio.SeqIO`.\n",
    "2. Invoking the command line tool to process the input file, usually through one of Biopython's command line wrappers.\n",
    "3. Reading the output from the tool, which comprises your aligned sequences, often accomplished using `Bio.AlignIO`.\n",
    "\n",
    "All the command line wrappers discussed here follow a similar structure. You create a command line object, specifying options (e.g., input and output filenames), and then execute this command line through a Python operating system call (e.g., utilizing the `subprocess` module).\n",
    "\n",
    "The majority of these wrappers are defined within the `Bio.Align.Applications` module:"
   ]
  },
  {
   "cell_type": "code",
   "execution_count": null,
   "metadata": {},
   "outputs": [],
   "source": [
    "import Bio.Align.Applications\n",
    "dir(Bio.Align.Applications)[0:9]"
   ]
  },
  {
   "cell_type": "markdown",
   "metadata": {},
   "source": [
    "### What is a sequence similarity?"
   ]
  },
  {
   "cell_type": "markdown",
   "metadata": {},
   "source": [
    "Imagine you have three protein sequences - call them ``seq1``, ``seq2`` and ``seq3`` - and you want to know whether ``seq3`` is more similar to ``seq1`` or ``seq2``. At first glance, it may appear feasible to determine the dissimilarity by simply counting the positions where the sequences differ by calculating the [Hamming distance](http://en.wikipedia.org/wiki/Hamming_distance) between them. Below is an illustration of how this could be done using an implementation of the Hamming distance from the SciPy Python library."
   ]
  },
  {
   "cell_type": "code",
   "execution_count": null,
   "metadata": {},
   "outputs": [],
   "source": [
    "!pip install scipy\n",
    "!pip install scikit-bio"
   ]
  },
  {
   "cell_type": "code",
   "execution_count": null,
   "metadata": {},
   "outputs": [],
   "source": [
    "from scipy.spatial.distance import hamming\n",
    "import skbio\n",
    "\n",
    "# NCBI Reference Sequence: NP_000508.1 (human hemoglobin subunit A)\n",
    "seq1 = skbio.Protein(\"MVLSPADKTNVKAAWGKVGAHAGEYGAEALERMFLSFPTTKTYFPHFDLSHGSAQVKGHGKKVADALTNAVAHVDDMPNALSALSDLHAHKLRVDPVNFKLLSHCLLVTLAAHLPAEFTPAVHASLDKFLASVSTVLTSKYR\")\n",
    "\n",
    "# NCBI Reference Sequence: NP_001004376.1 (chicken hemoglobin subunit A)\n",
    "seq2 = skbio.Protein(\"MVLSAADKNNVKGIFTKIAGHAEEYGAETLERMFTTYPPTKTYFPHFDLSHGSAQIKGHGKKVVAALIEAANHIDDIAGTLSKLSDLHAHKLRVDPVNFKLLGQCFLVVVAIHHPAALTPEVHASLDKFLCAVGTVLTAKYR\")\n",
    "\n",
    "# GenBank: QFF91579.1 (sei whale hemoglobin subunit A)\n",
    "seq3 = skbio.Protein(\"MVLFPADKSNVKATWAKIGNHGAEYGAEALERMFMNFPSTKTYFPHFDLGHDSAQVKGHGKKVADALTKAAGHMDNLLDALSDLSDLHAHKLRVDPVNFKLLSHCLLVTLALHLPAEFTPSVHASLDKFLASVSTVLTSKYR\")\n",
    "\n",
    "print(seq1)\n",
    "print(seq2)\n",
    "print(seq3)"
   ]
  },
  {
   "cell_type": "markdown",
   "metadata": {},
   "source": [
    "Here we stored 3 protein sequences as variables. Now we're going to compute the hamming distance between them using the function `hamming()` to assess whether our query sequence (seq3) is closer to reference sequence 1 (seq1) or reference sequence 2 (seq2) based on the hamming distance:"
   ]
  },
  {
   "cell_type": "code",
   "execution_count": null,
   "metadata": {},
   "outputs": [],
   "source": [
    "print(hamming(seq1, seq3))\n",
    "print(hamming(seq2, seq3))"
   ]
  },
  {
   "cell_type": "markdown",
   "metadata": {},
   "source": [
    "In this instance, the distance between 'seq3' and 'seq1' is smaller than that between 'seq3' and 'seq2,' indicating that 'seq3' is more similar to 'seq1' than to 'seq2.' The comment lines of each sequence provide information about their source organisms. The Hamming distances observed align with our knowledge of the evolutionary distances between these organisms. For instance, the whale hemoglobin exhibits a smaller Hamming distance (indicating greater similarity) to the human hemoglobin sequence than to the chicken hemoglobin sequences. Since whales and humans are both mammals, while chickens are birds, whales and humans are more closely related to each other than either is to birds. If we had postulated that whales were more closely related to humans than to chickens, this result would have supported that hypothesis. However, it's important to note that relating sequence similarity to evolutionary history is not always straightforward."
   ]
  },
  {
   "cell_type": "markdown",
   "metadata": {},
   "source": [
    "### What is a sequence alignment? "
   ]
  },
  {
   "cell_type": "markdown",
   "metadata": {},
   "source": [
    "Let's take a moment to reflect on sequence evolution and understand what a biological sequence alignment entails. Throughout biological evolution, DNA sequences undergo changes, often resulting from random errors in replication, commonly known as **mutations**. Some notable types of mutation events include:\n",
    "\n",
    "* **Substitutions:** This occurs when one DNA base is replaced with another.\n",
    "* **Insertions:** Involves the insertion of one or more contiguous DNA bases into a sequence.\n",
    "* **Deletions:** Encompasses the removal of one or more contiguous DNA bases from a sequence.\n",
    "\n",
    "While other types of mutation events exist, our current focus will be on these mentioned types.\n",
    "\n",
    "**Note:** In the protein coding regions of genomes, substitutions may or may not lead to a modification in the resulting protein. These mutations are categorized as non-synonymous or synonymous mutations, depending on whether they affect the protein. On the other hand, insertions or deletions will alter the resulting protein, and the magnitude of the insertion or deletion (i.e., the number of bases inserted or deleted) determines the extent of the impact the mutation has on the resulting protein sequence."
   ]
  },
  {
   "cell_type": "markdown",
   "metadata": {},
   "source": [
    "#### An Initial Algorithm for Aligning a Pair of Sequences\n",
    "\n",
    "We will establish two sequences, \"seq1\" and \"seq2,\" and subsequently outline an approach for aligning them. In this section, our focus will be on DNA sequences, while future sections will delve into aligning protein sequences. It's worth noting that the algorithms employed are generally applicable to both DNA/RNA and protein sequences. Throughout this book and your own endeavors, you may encounter scenarios where alignment is performed on DNA or RNA sequences, as well as on protein sequences."
   ]
  },
  {
   "cell_type": "code",
   "execution_count": 12,
   "metadata": {},
   "outputs": [],
   "source": [
    "from skbio import DNA\n",
    "seq1 = DNA(\"ACCGGTGGAACCGGTAACACCCAC\")\n",
    "seq2 = DNA(\"ACCGGTAACCGGTTAACACCCAC\")"
   ]
  },
  {
   "cell_type": "markdown",
   "metadata": {},
   "source": [
    "##### Step 1: Create a blank matrix where the rows and columns represent the positions in the sequences. \n",
    "\n",
    "We'll create this matrix and initialize it with all zeros as follows:"
   ]
  },
  {
   "cell_type": "code",
   "execution_count": 14,
   "metadata": {},
   "outputs": [],
   "source": [
    "import numpy as np\n",
    "\n",
    "num_rows = len(seq2)\n",
    "num_cols = len(seq1)\n",
    "data = np.zeros(shape=(num_rows, num_cols), dtype=int)"
   ]
  },
  {
   "cell_type": "markdown",
   "metadata": {},
   "source": [
    "We will use a function called `show_F` to display matrices."
   ]
  },
  {
   "cell_type": "code",
   "execution_count": 15,
   "metadata": {},
   "outputs": [],
   "source": [
    "import tabulate\n",
    "\n",
    "def show_F(h_sequence, v_sequence, data, hide_zeros=False, nonzero_val=None):\n",
    "    rows = []\n",
    "    col_headers = [c.decode('UTF-8') for c in h_sequence.values]\n",
    "    row_headers = [c.decode('UTF-8') for c in v_sequence.values]\n",
    "    pad_headers = data.shape == (len(row_headers) + 1, len(col_headers) + 1)\n",
    "    if pad_headers:\n",
    "        row_headers = [\" \"] + row_headers\n",
    "        col_headers = [\" \"] + col_headers\n",
    "    for h, d in zip(row_headers, data):\n",
    "        current_row = [h]\n",
    "        for e in d:\n",
    "            if e == 0:\n",
    "                if hide_zeros:\n",
    "                    current_row.append('')\n",
    "                else:\n",
    "                    current_row.append(0)\n",
    "            else:\n",
    "                if nonzero_val is not None:\n",
    "                    current_row.append(nonzero_val)\n",
    "                else:\n",
    "                    current_row.append(e)\n",
    "        rows.append(current_row)\n",
    "    return tabulate.tabulate(rows, headers=col_headers, tablefmt='html')"
   ]
  },
  {
   "cell_type": "code",
   "execution_count": null,
   "metadata": {},
   "outputs": [],
   "source": [
    "show_F(seq1, seq2, data)"
   ]
  },
  {
   "cell_type": "markdown",
   "metadata": {},
   "source": [
    "##### Step 2: Add values to the cells in the matrix. \n",
    "\n",
    "Next we'll add initial values to the cells so that if the characters at the corresponding row and column are the same, the value of the cell is changed from zero to one. We can then review the resulting matrix. For clarity, we'll have ``show_F`` hide the zero values."
   ]
  },
  {
   "cell_type": "code",
   "execution_count": null,
   "metadata": {},
   "outputs": [],
   "source": [
    "for row_number, row_character in enumerate(seq2):\n",
    "    for col_number, col_character in enumerate(seq1):\n",
    "        if row_character == col_character:\n",
    "            data[row_number, col_number] = 1\n",
    "\n",
    "show_F(seq1, seq2, data, hide_zeros=True)"
   ]
  },
  {
   "cell_type": "markdown",
   "metadata": {},
   "source": [
    "##### Step 3: Identify the longest diagonals. \n",
    "\n",
    "Next we'll identify the longest stretches of non-zero characters, which we'll refer to here as the *diagonals*. Diagonals indicate segments of the two sequences that are identical and uninterrupted by mismatched characters (substitution events) or indel events.\n",
    "\n",
    "We can identify the longest diagonals as follows:"
   ]
  },
  {
   "cell_type": "code",
   "execution_count": null,
   "metadata": {},
   "outputs": [],
   "source": [
    "# create a copy of our data matrix to work with, so we\n",
    "# leave the original untouched.\n",
    "summed_data = data.copy()\n",
    "# iterate over the cells in our data matrix, starting in\n",
    "# the second row and second column\n",
    "for i in range(1, summed_data.shape[0]):\n",
    "    for j in range(1, summed_data.shape[1]):\n",
    "        # if the value in the current cell is greater than zero\n",
    "        # (i.e., the characters at the corresponding pair of\n",
    "        # sequence positions are the same), add the value from the\n",
    "        # cell that is diagonally up and to the left.\n",
    "        if summed_data[i, j] > 0:\n",
    "            summed_data[i, j] += summed_data[i-1][j-1]\n",
    "\n",
    "show_F(seq1, seq2, summed_data, hide_zeros=True)"
   ]
  },
  {
   "cell_type": "markdown",
   "metadata": {},
   "source": [
    "Next, we'll identify the length of the longest diagonal."
   ]
  },
  {
   "cell_type": "code",
   "execution_count": null,
   "metadata": {},
   "outputs": [],
   "source": [
    "longest_diagonal_length = summed_data.max()\n",
    "print(\"The longest diagonal is %d characters long.\" % longest_diagonal_length)"
   ]
  },
  {
   "cell_type": "markdown",
   "metadata": {},
   "source": [
    "##### Step 4: Transcribe some of the possible alignments that arise from this process. \n",
    "\n",
    "We will summarize the algorithm briefly for now, and we'll revisit it in more detail later. In essence, the goal is to begin with the longest diagonal and trace it backward, transcribing the alignment by noting the characters from each of the two sequences at every corresponding row and column along the diagonal. When encountering a break in the diagonal, the next longest diagonal is identified, starting in a cell that is either up and/or to the left of the previous diagonal's endpoint. Moving straight upwards involves inserting a gap in the sequence on the horizontal axis of the matrix for every such cell, while moving straight leftwards results in a gap on the vertical axis.\n",
    "\n",
    "Additionally, it's common to calculate a score for an alignment to assess its quality. **As a simple scoring system, we might add one for every match and subtract one for every mismatch.** If this step appears confusing at the moment, don't worry. We'll be back to this in a lot more detail soon.\n",
    "\n",
    "Here are two possible alignments:\n",
    "\n",
    "Alignment 1 (score: 19)\n",
    "```\n",
    "ACCGGTGGAACCGG-TAACACCCAC\n",
    "ACCGGT--AACCGGTTAACACCCAC\n",
    "```\n",
    "\n",
    "Alignment 2 (score: 8)\n",
    "```\n",
    "ACCGGTGGAACCGGTAACACCCAC\n",
    "ACCGGT--------TAACACCCAC\n",
    "```"
   ]
  },
  {
   "cell_type": "markdown",
   "metadata": {},
   "source": [
    "### Pairwise sequence alignment"
   ]
  },
  {
   "cell_type": "markdown",
   "metadata": {},
   "source": [
    "Pairwise sequence alignment involves aligning two sequences to optimize their similarity score. The `Bio.Align` module includes the `PairwiseAligner` class, designed for global and local alignments. It employs algorithms such as `Needleman-Wunsch`, `Smith-Waterman`, `Gotoh (three-state)`, and `Waterman-Smith-Beyer`, offering various options to customize alignment parameters.\n",
    "\n",
    "#### Basic usage\n",
    "\n",
    "To generate pairwise alignments, first create a `PairwiseAligner` object:"
   ]
  },
  {
   "cell_type": "code",
   "execution_count": 20,
   "metadata": {},
   "outputs": [],
   "source": [
    "from Bio import Align\n",
    "aligner = Align.PairwiseAligner()"
   ]
  },
  {
   "cell_type": "markdown",
   "metadata": {},
   "source": [
    "The `PairwiseAligner` object stores the alignment parameters to be used for the pairwise alignments.\n",
    "\n",
    "These attributes can be set in the constructor of the object or after the object is made."
   ]
  },
  {
   "cell_type": "code",
   "execution_count": 37,
   "metadata": {},
   "outputs": [],
   "source": [
    "aligner = Align.PairwiseAligner(match_score=1.0)"
   ]
  },
  {
   "cell_type": "markdown",
   "metadata": {},
   "source": [
    "Use the `aligner.score` method to calculate the alignment score between two sequences:"
   ]
  },
  {
   "cell_type": "code",
   "execution_count": null,
   "metadata": {},
   "outputs": [],
   "source": [
    "target = \"AGAACTC\"\n",
    "query = \"GAACT\"\n",
    "score = aligner.score(target, query)\n",
    "score"
   ]
  },
  {
   "cell_type": "markdown",
   "metadata": {},
   "source": [
    "To see the actual alignments, use the `aligner.align` method and iterate over the Alignment objects returned:"
   ]
  },
  {
   "cell_type": "code",
   "execution_count": null,
   "metadata": {},
   "outputs": [],
   "source": [
    "alignments = aligner.align(target, query)\n",
    "for alignment in alignments:\n",
    "    print(alignment)"
   ]
  },
  {
   "cell_type": "markdown",
   "metadata": {},
   "source": [
    "By default, a global pairwise alignment is performed, which finds the optimal alignment over the whole length of target and query. Instead, a local alignment will find the subsequence of target and query with the highest alignment score. Local alignments can be generated by setting `aligner.mode` to **\"local\"**:"
   ]
  },
  {
   "cell_type": "code",
   "execution_count": null,
   "metadata": {},
   "outputs": [],
   "source": [
    "aligner.mode = \"local\"\n",
    "target = \"AGAACTC\"\n",
    "query = \"GAACT\"\n",
    "score = aligner.score(target, query)\n",
    "score"
   ]
  },
  {
   "cell_type": "code",
   "execution_count": null,
   "metadata": {},
   "outputs": [],
   "source": [
    "alignments = aligner.align(target, query)\n",
    "for alignment in alignments:\n",
    "    print(alignment)"
   ]
  },
  {
   "cell_type": "markdown",
   "metadata": {},
   "source": [
    "#### The pairwise aligner object\n",
    "\n",
    "The `PairwiseAligner` object stores all alignment parameters to be used for the pairwise alignments. To see an overview of the values for all parameters, use:"
   ]
  },
  {
   "cell_type": "code",
   "execution_count": null,
   "metadata": {},
   "outputs": [],
   "source": [
    "print(aligner)"
   ]
  },
  {
   "cell_type": "markdown",
   "metadata": {},
   "source": [
    "Depending on the gap scoring parameters and mode, `PairwiseAligner` object automatically chooses the appropriate algorithm to use for pairwise sequence alignment. To verify the selected algorithm, use the command below. This attribute is read-only."
   ]
  },
  {
   "cell_type": "code",
   "execution_count": null,
   "metadata": {},
   "outputs": [],
   "source": [
    "aligner.algorithm"
   ]
  },
  {
   "cell_type": "markdown",
   "metadata": {},
   "source": [
    "#### Substitution scores\n",
    "\n",
    "Substitution scores define the value to be added to the total score when two letters (nucleotides or amino acids) are aligned to each other. The substitution scores to be used by the `PairwiseAligner` can be specified in two ways:\n",
    "\n",
    "By specifying a match score for identical letters, and a mismatch scores for mismatched letters. Nucleotide sequence alignments are typically based on match and mismatch scores. For example, by default _BLAST_ uses a match score of +1 and a mismatch score of −2 for nucleotide alignments by megablast, with a gap penalty of 2.5. Match and mismatch scores can be specified by setting the match and mismatch attributes of the `PairwiseAligner` object:"
   ]
  },
  {
   "cell_type": "code",
   "execution_count": null,
   "metadata": {},
   "outputs": [],
   "source": [
    "from Bio import Align\n",
    "aligner = Align.PairwiseAligner()\n",
    "aligner.match_score"
   ]
  },
  {
   "cell_type": "code",
   "execution_count": null,
   "metadata": {},
   "outputs": [],
   "source": [
    "aligner.mismatch_score"
   ]
  },
  {
   "cell_type": "code",
   "execution_count": null,
   "metadata": {},
   "outputs": [],
   "source": [
    "score = aligner.score(\"ACGT\", \"ACAT\")\n",
    "print(score)"
   ]
  },
  {
   "cell_type": "code",
   "execution_count": null,
   "metadata": {},
   "outputs": [],
   "source": [
    "aligner.match_score = 1.0\n",
    "aligner.mismatch_score = -2.0\n",
    "aligner.gap_score = -2.5\n",
    "score = aligner.score(\"ACGT\", \"ACAT\")\n",
    "print(score)"
   ]
  },
  {
   "cell_type": "markdown",
   "metadata": {},
   "source": [
    "Alternatively, you can use the substitution_matrix attribute of the `PairwiseAligner` object to specify a substitution matrix. This allows you to apply different scores for different pairs of matched and mismatched letters. This is typically used for amino acid sequence alignments. For example, by default _BLAST_ uses the _BLOSUM62_ substitution matrix for protein alignments by `blastp`. This substitution matrix is available from Biopython:"
   ]
  },
  {
   "cell_type": "code",
   "execution_count": null,
   "metadata": {},
   "outputs": [],
   "source": [
    "from Bio.Align import substitution_matrices\n",
    "substitution_matrices.load()"
   ]
  },
  {
   "cell_type": "code",
   "execution_count": null,
   "metadata": {},
   "outputs": [],
   "source": [
    "matrix = substitution_matrices.load(\"BLOSUM62\")\n",
    "print(matrix)"
   ]
  },
  {
   "cell_type": "code",
   "execution_count": null,
   "metadata": {},
   "outputs": [],
   "source": [
    "from Bio.Align import substitution_matrices\n",
    "matrix = substitution_matrices.load(\"BLOSUM62\")\n",
    "aligner.substitution_matrix = matrix\n",
    "score = aligner.score(\"ACDQ\", \"ACDQ\")\n",
    "score"
   ]
  },
  {
   "cell_type": "code",
   "execution_count": null,
   "metadata": {},
   "outputs": [],
   "source": [
    "score = aligner.score(\"ACDQ\", \"ACNQ\")\n",
    "score"
   ]
  },
  {
   "cell_type": "markdown",
   "metadata": {},
   "source": [
    "#### Examples\n",
    "\n",
    "Suppose you want to do a global pairwise alignment between two sequences, prepared in FASTA format separately in _alpha.fa_ and _beta.fa_:\n",
    "\n",
    ">HBA_HUMAN\n",
    "MVLSPADKTNVKAAWGKVGAHAGEYGAEALERMFLSFPTTKTYFPHFDLSHGSAQVKGHG\n",
    "KKVADALTNAVAHVDDMPNALSALSDLHAHKLRVDPVNFKLLSHCLLVTLAAHLPAEFTP\n",
    "AVHASLDKFLASVSTVLTSKYR\n",
    "\n",
    ">HBB_HUMAN\n",
    "MVHLTPEEKSAVTALWGKVNVDEVGGEALGRLLVVYPWTQRFFESFGDLSTPDAVMGNPK\n",
    "VKAHGKKVLGAFSDGLAHLDNLKGTFATLSELHCDKLHVDPENFRLLGNVLVCVLAHHFG\n",
    "KEFTPPVQAAYQKVVAGVANALAHKYH"
   ]
  },
  {
   "cell_type": "code",
   "execution_count": null,
   "metadata": {},
   "outputs": [],
   "source": [
    "from Bio import Align\n",
    "from Bio import SeqIO\n",
    "seq1 = SeqIO.read(\"alpha.faa\", \"fasta\")\n",
    "seq2 = SeqIO.read(\"beta.faa\", \"fasta\")\n",
    "aligner = Align.PairwiseAligner()\n",
    "alignments = aligner.align(seq1.seq, seq2.seq)\n",
    "alignment = alignments[0] # The alignment with hishest score is stored as first\n",
    "print(\"Alignment Score:\", alignment.score)\n",
    "print(alignment)"
   ]
  },
  {
   "cell_type": "markdown",
   "metadata": {},
   "source": [
    "Better alignments are usually obtained by penalizing gaps: higher costs for opening a gap and lower costs for extending an existing gap. For amino acid sequences match scores are usually encoded in matrices like _PAM_ or _BLOSUM_. Thus, a more meaningful alignment for our example can be obtained by using the _BLOSUM62_ matrix, together with a gap open penalty of 10 and a gap extension penalty of 0.5:"
   ]
  },
  {
   "cell_type": "code",
   "execution_count": null,
   "metadata": {},
   "outputs": [],
   "source": [
    "from Bio import Align\n",
    "from Bio import SeqIO\n",
    "from Bio.Align import substitution_matrices\n",
    "seq1 = SeqIO.read(\"alpha.faa\", \"fasta\")\n",
    "seq2 = SeqIO.read(\"beta.faa\", \"fasta\")\n",
    "aligner = Align.PairwiseAligner()\n",
    "aligner.open_gap_score = -10\n",
    "aligner.extend_gap_score = -0.5\n",
    "aligner.substitution_matrix = substitution_matrices.load(\"BLOSUM62\")\n",
    "\n",
    "alignments = aligner.align(seq1.seq, seq2.seq)\n",
    "print(\"Alignment Score:\", alignments[0].score)\n",
    "print(alignments[0])"
   ]
  },
  {
   "cell_type": "markdown",
   "metadata": {},
   "source": [
    "### Multiple Sequence Alignment"
   ]
  },
  {
   "cell_type": "markdown",
   "metadata": {},
   "source": [
    "#### ClustalW\n",
    "\n",
    "ClustalW is a popular command line tool for multiple sequence alignment (there is also a graphical interface called ClustalX). Biopython’s `Bio.Align.Applications` module has a wrapper for this alignment tool (and several others).\n",
    "\n",
    "Before trying to use ClustalW from within Python, you should first install CLustalW by downloading the spesific version for your OS from http://www.clustal.org/download/current/ and try running the ClustalW yourself by hand at the command line, to familiarize yourself the other options."
   ]
  },
  {
   "cell_type": "markdown",
   "metadata": {},
   "source": [
    "##### Install ClustalW in linux"
   ]
  },
  {
   "cell_type": "code",
   "execution_count": null,
   "metadata": {},
   "outputs": [],
   "source": [
    "# Installing pre-requisites\n",
    "%%bash\n",
    "sudo apt-get install -y build-essential\n",
    "sudo apt-get install -y gpp g++ c++ kcc fcc gpp\n",
    "\n",
    "# Downloading ClustalW2\n",
    "wget http://www.clustal.org/download/current/clustalw-2.1.tar.gz\n",
    "\n",
    "#Installing ClustalW2\n",
    "tar xvzf clustalw-2.1.tar.gz\n",
    "cd clustalw-2.1/\n",
    "\n",
    "./configure\n",
    "make\n",
    "make install\n",
    "\n",
    "#Now, you can run clustalw2 in the terminal by typing: \n",
    "clustalw2"
   ]
  },
  {
   "cell_type": "markdown",
   "metadata": {},
   "source": [
    "You’ll find the Biopython wrapper is very faithful to the actual command line API:"
   ]
  },
  {
   "cell_type": "code",
   "execution_count": null,
   "metadata": {},
   "outputs": [],
   "source": [
    "from Bio.Align.Applications import ClustalwCommandline\n",
    "help(ClustalwCommandline)"
   ]
  },
  {
   "cell_type": "markdown",
   "metadata": {},
   "source": [
    "For the most basic usage, all you need is to have a FASTA input file, such as [opuntia.fasta](https://raw.githubusercontent.com/biopython/biopython/master/Doc/examples/opuntia.fasta). This is a small FASTA file containing seven prickly-pear DNA sequences (from the cactus family Opuntia)."
   ]
  },
  {
   "cell_type": "code",
   "execution_count": null,
   "metadata": {},
   "outputs": [],
   "source": [
    "from Bio.Align.Applications import ClustalwCommandline\n",
    "cline = ClustalwCommandline(\"clustalw2\", infile=\"opuntia.fasta\")\n",
    "print(cline)"
   ]
  },
  {
   "cell_type": "markdown",
   "metadata": {},
   "source": [
    "Notice here we have given the executable name as clustalw2, indicating we have version two installed, which has a different filename to version one (clustalw, the default). Fortunately both versions support the same set of arguments at the command line (and indeed, should be functionally identical).\n",
    "\n",
    "You may find that even though you have ClustalW installed, the above command doesn’t work – you may get a message about “command not found” (especially on Windows). This indicated that the ClustalW executable is not on your PATH (an environment variable, a list of directories to be searched). You can either update your PATH setting to include the location of your copy of ClustalW tools (how you do this will depend on your OS), or simply type in the full path of the tool."
   ]
  },
  {
   "cell_type": "markdown",
   "metadata": {},
   "source": [
    "When you run the command line tool like this via the Biopython wrapper, it will wait for it to finish, and check the return code. If this is non zero (indicating an error), an exception is raised. The wrapper then returns two strings, stdout and stderr.\n",
    "\n",
    "In the case of ClustalW, when run at the command line all the important output is written directly to the output files. Everything normally printed to screen while you wait (via stdout or stderr) is boring and can be ignored (assuming it worked).\n",
    "\n",
    "What we care about are the two output files, the alignment and the guide tree. We didn’t tell ClustalW what filenames to use, but it defaults to picking names based on the input file. In this case the output should be in the file opuntia.aln. You should be able to work out how to read in the alignment using `Bio.AlignIO` by now:"
   ]
  },
  {
   "cell_type": "code",
   "execution_count": null,
   "metadata": {},
   "outputs": [],
   "source": [
    "from Bio import AlignIO\n",
    "alignment = AlignIO.read(\"opuntia.aln\", \"clustal\")\n",
    "print(alignment)"
   ]
  },
  {
   "cell_type": "markdown",
   "metadata": {},
   "source": [
    "You’ll notice in the above output the sequences have been truncated. We could instead write our own code to format this as we please by iterating over the rows as SeqRecord objects:"
   ]
  },
  {
   "cell_type": "code",
   "execution_count": null,
   "metadata": {},
   "outputs": [],
   "source": [
    "from Bio import AlignIO\n",
    "alignment = AlignIO.read(\"opuntia.aln\", \"clustal\")\n",
    "print(\"Alignment length %i\" % alignment.get_alignment_length())\n",
    "for record in alignment:\n",
    "    print(\"%s - %s\" % (record.id, record.seq))"
   ]
  },
  {
   "cell_type": "markdown",
   "metadata": {},
   "source": [
    "In case you are interested, the `opuntia.dnd` file ClustalW creates is just a standard _Newick tree_ file, and `Bio.Phylo` can parse these:"
   ]
  },
  {
   "cell_type": "code",
   "execution_count": null,
   "metadata": {},
   "outputs": [],
   "source": [
    "from Bio import Phylo\n",
    "tree = Phylo.read(\"opuntia.dnd\", \"newick\")\n",
    "Phylo.draw_ascii(tree)"
   ]
  },
  {
   "cell_type": "markdown",
   "metadata": {},
   "source": [
    "## Homework\n",
    "\n",
    "Prepare a Jupyter notebook to achive the goals below and upload to 'Homeworks/Week_06' folder under Google Drive directory of the course.\n",
    "\n",
    "* Download protein sequences of TP53 from at least 100 different organisms\n",
    "* Perform multiple sequence alignment and draw a phylogentic tree\n",
    "* Find the correlated regions of TP53 protein\n",
    "* Find the domains of correlated regions"
   ]
  }
 ],
 "metadata": {
  "kernelspec": {
   "display_name": "Python 3 (ipykernel)",
   "language": "python",
   "name": "python3"
  },
  "language_info": {
   "codemirror_mode": {
    "name": "ipython",
    "version": 3
   },
   "file_extension": ".py",
   "mimetype": "text/x-python",
   "name": "python",
   "nbconvert_exporter": "python",
   "pygments_lexer": "ipython3",
   "version": "3.11.5"
  }
 },
 "nbformat": 4,
 "nbformat_minor": 4
}
