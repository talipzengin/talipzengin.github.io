{
 "cells": [
  {
   "cell_type": "markdown",
   "metadata": {},
   "source": [
    "# Gene Expression Analysis"
   ]
  },
  {
   "cell_type": "markdown",
   "metadata": {},
   "source": [
    "## Differential Expression Analysis (DEA) using PyDESeq2"
   ]
  },
  {
   "cell_type": "markdown",
   "metadata": {},
   "source": [
    "PyDESeq2 package is a python implementation of the [DESeq2 R package](https://bioconductor.org/packages/release/bioc/html/DESeq2.html) for differential expression analysis (DEA) with bulk RNA-seq data. It aims to facilitate DEA experiments for python users.\n",
    "\n",
    "As PyDESeq2 is a re-implementation of DESeq2 from scratch, you may experience some differences in terms of retrieved values or available features."
   ]
  },
  {
   "cell_type": "markdown",
   "metadata": {},
   "source": [
    "### Installation"
   ]
  },
  {
   "cell_type": "code",
   "execution_count": null,
   "id": "2ff8dc3c",
   "metadata": {},
   "outputs": [],
   "source": [
    "%pip install pydeseq2"
   ]
  },
  {
   "cell_type": "code",
   "execution_count": 5,
   "id": "8508227b",
   "metadata": {},
   "outputs": [],
   "source": [
    "from pydeseq2.dds import DeseqDataSet\n",
    "from pydeseq2.ds import DeseqStats"
   ]
  },
  {
   "cell_type": "markdown",
   "metadata": {},
   "source": [
    "### Data loading with pandas\n",
    "\n",
    "To perform differential expression analysis (DEA), PyDESeq2 requires two types of inputs:\n",
    "\n",
    "* A count matrix of shape ‘number of samples’ x ‘number of genes’, containing [read counts](http://talipzengin.github.io/CENG4525/2023/count_table.csv) (non-negative integers),\n",
    "* Metadata (or annotations, or “column” data) of shape ‘number of samples’ x ‘number of variables’, containing sample annotations that will be used to split the data in cohorts.\n",
    "\n",
    "Both should be provided as pandas dataframes."
   ]
  },
  {
   "cell_type": "code",
   "execution_count": null,
   "id": "a51169a4",
   "metadata": {},
   "outputs": [],
   "source": [
    "import pandas as pd\n",
    "counts = pd.read_csv('count_table.csv')\n",
    "counts"
   ]
  },
  {
   "cell_type": "markdown",
   "metadata": {},
   "source": [
    "Set the DataFrame index (row labels) using 'Geneid' column. The index can replace the existing index or expand on it."
   ]
  },
  {
   "cell_type": "code",
   "execution_count": null,
   "id": "cebc3ee5",
   "metadata": {},
   "outputs": [],
   "source": [
    "counts = counts.set_index('Geneid')\n",
    "counts"
   ]
  },
  {
   "cell_type": "markdown",
   "metadata": {},
   "source": [
    "### Data filtering\n",
    "\n",
    "#### Low count filtering\n",
    "We filter out genes that have less than 10 read counts in total. Note again that there are no such genes in this synthetic dataset."
   ]
  },
  {
   "cell_type": "code",
   "execution_count": null,
   "id": "9437cd34",
   "metadata": {},
   "outputs": [],
   "source": [
    "counts = counts[counts.sum(axis = 1) >= 10]\n",
    "counts"
   ]
  },
  {
   "cell_type": "markdown",
   "metadata": {},
   "source": [
    "Note that the counts data is in a ‘number of genes’ x ‘number of samples’ format, whereas ‘number of samples’ x ‘number of genes’ is required. To fix this issue, we transpose the counts dataframe."
   ]
  },
  {
   "cell_type": "code",
   "execution_count": null,
   "id": "a2537fb0",
   "metadata": {},
   "outputs": [],
   "source": [
    "counts = counts.T\n",
    "counts"
   ]
  },
  {
   "cell_type": "markdown",
   "metadata": {},
   "source": [
    "In this example, the metadata data contains two columns, Sample and Condition, representing two types of bi-level annotations. Here, we will only use the condition factor."
   ]
  },
  {
   "cell_type": "code",
   "execution_count": 18,
   "id": "b3c8eba0",
   "metadata": {},
   "outputs": [],
   "source": [
    "metadata = pd.DataFrame(zip(counts.index, ['C','C','C','C', 'RS', 'RS', 'RS', 'RS']),\n",
    "                        columns = ['Sample', 'Condition'])"
   ]
  },
  {
   "cell_type": "code",
   "execution_count": null,
   "id": "555282e5",
   "metadata": {},
   "outputs": [],
   "source": [
    "metadata = metadata.set_index('Sample')\n",
    "metadata"
   ]
  },
  {
   "cell_type": "markdown",
   "metadata": {},
   "source": [
    "### Single factor analysis\n",
    "As in the getting started example, we will use the condition column as our design factor.\n",
    "\n",
    "#### Read counts modeling with the *DeseqDataSet* class\n",
    "We start by creating a *DeseqDataSet* object from the count and metadata data that were just loaded."
   ]
  },
  {
   "cell_type": "code",
   "execution_count": 22,
   "id": "38d221ff",
   "metadata": {},
   "outputs": [],
   "source": [
    "dds = DeseqDataSet(\n",
    "    counts=counts,\n",
    "    metadata=metadata,\n",
    "    design_factors=\"Condition\",\n",
    "    refit_cooks=True\n",
    ")\n",
    "\n",
    "#design_factors=[\"gender\", \"condition\"] = ~ gender + condition"
   ]
  },
  {
   "cell_type": "markdown",
   "metadata": {},
   "source": [
    "Once a *DeseqDataSet* was initialized, we may run the *deseq2()* method to fit dispersions and LFCs."
   ]
  },
  {
   "cell_type": "code",
   "execution_count": null,
   "id": "c52b3680",
   "metadata": {},
   "outputs": [],
   "source": [
    "dds.deseq2()"
   ]
  },
  {
   "cell_type": "markdown",
   "metadata": {},
   "source": [
    "The *DeseqDataSet* class extends the *AnnData* class."
   ]
  },
  {
   "cell_type": "code",
   "execution_count": null,
   "id": "cc91e5f7",
   "metadata": {},
   "outputs": [],
   "source": [
    "print(dds)"
   ]
  },
  {
   "cell_type": "markdown",
   "metadata": {},
   "source": [
    "### Statistical analysis with the DeseqStats class\n",
    "\n",
    "Now that dispersions and LFCs were fitted, we may proceed with statistical tests to compute p-values and adjusted p-values for differential expresion. This is the role of the *DeseqStats* class."
   ]
  },
  {
   "cell_type": "code",
   "execution_count": 27,
   "id": "f5d90ba9",
   "metadata": {},
   "outputs": [],
   "source": [
    "stat_res = DeseqStats(dds, contrast = ('Condition','RS','C'))"
   ]
  },
  {
   "cell_type": "markdown",
   "metadata": {},
   "source": [
    "*PyDESeq2* computes p-values using *Wald tests*. This can be done using the *summary()* method, which runs the whole statistical analysis, cooks filtering and multiple testing adjustement included."
   ]
  },
  {
   "cell_type": "code",
   "execution_count": null,
   "id": "7a080ec2",
   "metadata": {},
   "outputs": [],
   "source": [
    "stat_res.summary()"
   ]
  },
  {
   "cell_type": "markdown",
   "metadata": {},
   "source": [
    "The results are then stored in the results_df attribute (stat_res.results_df)."
   ]
  },
  {
   "cell_type": "code",
   "execution_count": null,
   "id": "0460fc18",
   "metadata": {},
   "outputs": [],
   "source": [
    "res = stat_res.results_df\n",
    "res"
   ]
  },
  {
   "cell_type": "markdown",
   "metadata": {},
   "source": [
    "It is often more convenient to have the results as a CSV. Hence, we may export stat_res.results_df as CSV, using pandas.DataFrame.to_csv()."
   ]
  },
  {
   "cell_type": "code",
   "execution_count": 30,
   "metadata": {},
   "outputs": [],
   "source": [
    "stat_res.results_df.to_csv(\"results.csv\")"
   ]
  },
  {
   "cell_type": "markdown",
   "metadata": {},
   "source": [
    "## Gene Annotation"
   ]
  },
  {
   "cell_type": "markdown",
   "metadata": {},
   "source": [
    "We determined the differentially expressed genes however we have only Ensembl gene IDS which are mostly used for RNA transcripts. We need to get gene names which are more human readable and memoriable. For this purpose we can use several R or python packages to convert Ensembl Gene IDs to HGNC symbol (gene name) and/or Entrez gene IDs."
   ]
  },
  {
   "cell_type": "code",
   "execution_count": null,
   "id": "11fcefd0",
   "metadata": {},
   "outputs": [],
   "source": [
    "%pip install sanbomics"
   ]
  },
  {
   "cell_type": "code",
   "execution_count": 34,
   "id": "5a8592aa",
   "metadata": {},
   "outputs": [],
   "source": [
    "from sanbomics.tools import id_map\n",
    "gene_mapper = id_map(species = 'human')"
   ]
  },
  {
   "cell_type": "code",
   "execution_count": null,
   "id": "83b38de2",
   "metadata": {},
   "outputs": [],
   "source": [
    "res['Symbol'] = res.index.map(gene_mapper.mapper)\n",
    "res"
   ]
  },
  {
   "cell_type": "markdown",
   "metadata": {},
   "source": [
    "**Lets filter significantly differentially expressed genes (adjusted p value < a significance threshold: padj < 0.05) which have more or less than 2 fold expression changing.**"
   ]
  },
  {
   "cell_type": "code",
   "execution_count": null,
   "id": "c261f6cf",
   "metadata": {},
   "outputs": [],
   "source": [
    "sig_genes = res[(res.padj < 0.05) & (abs(res.log2FoldChange) > 1)]\n",
    "sig_genes"
   ]
  },
  {
   "cell_type": "markdown",
   "metadata": {},
   "source": [
    "## PCA (Principal Component Analysis)\n",
    "\n",
    "Principal Component Analysis (PCA) stands out as a widely employed method for analyzing extensive datasets characterized by a multitude of dimensions or features per observation. Its primary objectives include enhancing data interpretability, retaining maximal information, and facilitating the visualization of complex, multidimensional data sets. PCA, in essence, serves as a statistical technique dedicated to dimensionality reduction in datasets. This reduction is achieved through a linear transformation of the data into a novel coordinate system, wherein a diminished number of dimensions effectively capture (most of) the data's variation compared to the original dataset. Commonly, researchers utilize the first two principal components to generate two-dimensional plots, aiding in the visual identification of closely related data clusters. Principal Component Analysis finds applications across various fields due to its versatility and effectiveness in handling high-dimensional datasets."
   ]
  },
  {
   "cell_type": "code",
   "execution_count": null,
   "metadata": {},
   "outputs": [],
   "source": [
    "%pip install scanpy"
   ]
  },
  {
   "cell_type": "code",
   "execution_count": 40,
   "id": "d831f8cc",
   "metadata": {},
   "outputs": [],
   "source": [
    "import scanpy as scp"
   ]
  },
  {
   "cell_type": "code",
   "execution_count": null,
   "id": "e5d9844f",
   "metadata": {},
   "outputs": [],
   "source": [
    "dds"
   ]
  },
  {
   "cell_type": "markdown",
   "metadata": {},
   "source": [
    "Firstly, let's computes PCA coordinates, loadings and variance decomposition. The command below uses the implementation of *scikit-learn* ML python package."
   ]
  },
  {
   "cell_type": "code",
   "execution_count": 45,
   "id": "d904d96a",
   "metadata": {},
   "outputs": [],
   "source": [
    "scp.tl.pca(dds)"
   ]
  },
  {
   "cell_type": "markdown",
   "metadata": {},
   "source": [
    "Let's draw our PCA plot:"
   ]
  },
  {
   "cell_type": "code",
   "execution_count": null,
   "id": "ed0b7bb9",
   "metadata": {},
   "outputs": [],
   "source": [
    "scp.pl.pca(dds, color = 'Condition', size = 300)"
   ]
  },
  {
   "cell_type": "markdown",
   "metadata": {},
   "source": [
    "### GSEA (Gene Set Enrichment Analysis)"
   ]
  },
  {
   "cell_type": "code",
   "execution_count": null,
   "metadata": {},
   "outputs": [],
   "source": [
    "%pip install gseapy"
   ]
  },
  {
   "cell_type": "code",
   "execution_count": 53,
   "id": "22804801",
   "metadata": {},
   "outputs": [],
   "source": [
    "import gseapy as gp\n",
    "from gseapy.plot import gseaplot"
   ]
  },
  {
   "cell_type": "code",
   "execution_count": null,
   "id": "c6bc4216",
   "metadata": {},
   "outputs": [],
   "source": [
    "res"
   ]
  },
  {
   "cell_type": "code",
   "execution_count": null,
   "id": "21f44480",
   "metadata": {},
   "outputs": [],
   "source": [
    "ranking = res[['Symbol', 'padj']].dropna().sort_values('padj', ascending = True)\n",
    "ranking"
   ]
  },
  {
   "cell_type": "code",
   "execution_count": 57,
   "id": "8a69d668",
   "metadata": {},
   "outputs": [],
   "source": [
    "ranking = ranking.drop_duplicates('Symbol')"
   ]
  },
  {
   "cell_type": "code",
   "execution_count": null,
   "id": "aacd293c",
   "metadata": {},
   "outputs": [],
   "source": [
    "ranking"
   ]
  },
  {
   "cell_type": "code",
   "execution_count": 59,
   "id": "e7ad1042",
   "metadata": {},
   "outputs": [],
   "source": [
    "manual_set = {'things':['STAU2', 'USP53', 'SERPINE1', 'TMEM178B', 'PSAP']}"
   ]
  },
  {
   "cell_type": "code",
   "execution_count": 60,
   "id": "9ac9b8c7",
   "metadata": {},
   "outputs": [],
   "source": [
    "#to look at available libraries\n",
    "#gp.get_library_name()"
   ]
  },
  {
   "cell_type": "code",
   "execution_count": null,
   "id": "12d52a69",
   "metadata": {},
   "outputs": [],
   "source": [
    "pre_res = gp.prerank(rnk = ranking,\n",
    "                     gene_sets = ['GO_Biological_Process_2021', manual_set],\n",
    "                     seed = 6, permutation_num = 100)"
   ]
  },
  {
   "cell_type": "code",
   "execution_count": null,
   "id": "4b1fbf30",
   "metadata": {},
   "outputs": [],
   "source": [
    "out = []\n",
    "\n",
    "for term in list(pre_res.results):\n",
    "    out.append([term,\n",
    "               pre_res.results[term]['fdr'],\n",
    "               pre_res.results[term]['es'],\n",
    "               pre_res.results[term]['nes']])\n",
    "\n",
    "out_df = pd.DataFrame(out, columns = ['Term','fdr', 'es', 'nes']).sort_values('fdr').reset_index(drop = True)\n",
    "out_df"
   ]
  },
  {
   "cell_type": "code",
   "execution_count": null,
   "metadata": {},
   "outputs": [],
   "source": [
    "out_df[0:11]"
   ]
  },
  {
   "cell_type": "code",
   "execution_count": null,
   "metadata": {},
   "outputs": [],
   "source": [
    "out_df.iloc[0].Term"
   ]
  },
  {
   "cell_type": "markdown",
   "metadata": {},
   "source": [
    "### Heatmap"
   ]
  },
  {
   "cell_type": "code",
   "execution_count": 77,
   "id": "4c99b4cc",
   "metadata": {},
   "outputs": [],
   "source": [
    "import numpy as np\n",
    "import seaborn as sns"
   ]
  },
  {
   "cell_type": "code",
   "execution_count": null,
   "id": "b244198e",
   "metadata": {},
   "outputs": [],
   "source": [
    "dds.layers['normed_counts']"
   ]
  },
  {
   "cell_type": "code",
   "execution_count": 79,
   "id": "f9df58cf",
   "metadata": {},
   "outputs": [],
   "source": [
    "dds.layers['log1p'] = np.log1p(dds.layers['normed_counts'])"
   ]
  },
  {
   "cell_type": "code",
   "execution_count": null,
   "id": "f390705e",
   "metadata": {},
   "outputs": [],
   "source": [
    "dds.layers['log1p']"
   ]
  },
  {
   "cell_type": "code",
   "execution_count": null,
   "id": "70d46ca0",
   "metadata": {},
   "outputs": [],
   "source": [
    "sig_genes"
   ]
  },
  {
   "cell_type": "code",
   "execution_count": null,
   "id": "3d1e1c06",
   "metadata": {},
   "outputs": [],
   "source": [
    "dds_sig_genes = dds[:, sig_genes.index]\n",
    "dds_sig_genes"
   ]
  },
  {
   "cell_type": "code",
   "execution_count": 85,
   "id": "c30c7377",
   "metadata": {},
   "outputs": [],
   "source": [
    "grapher = pd.DataFrame(dds_sig_genes.layers['log1p'].T,\n",
    "                       index=dds_sig_genes.var_names, columns=dds_sig_genes.obs_names)"
   ]
  },
  {
   "cell_type": "code",
   "execution_count": null,
   "id": "227daaa0",
   "metadata": {},
   "outputs": [],
   "source": [
    "sns.clustermap(grapher, z_score=0, cmap = 'RdYlBu_r')"
   ]
  },
  {
   "cell_type": "markdown",
   "metadata": {},
   "source": [
    "### Volcano Plot"
   ]
  },
  {
   "cell_type": "code",
   "execution_count": 89,
   "id": "343046a2",
   "metadata": {},
   "outputs": [],
   "source": [
    "from sanbomics.plots import volcano"
   ]
  },
  {
   "cell_type": "code",
   "execution_count": null,
   "id": "2b9a4223",
   "metadata": {},
   "outputs": [],
   "source": [
    "res"
   ]
  },
  {
   "cell_type": "code",
   "execution_count": null,
   "id": "b3c0a207",
   "metadata": {},
   "outputs": [],
   "source": [
    "volcano(res, symbol='Symbol')"
   ]
  }
 ],
 "metadata": {
  "kernelspec": {
   "display_name": "Python 3 (ipykernel)",
   "language": "python",
   "name": "python3"
  },
  "language_info": {
   "codemirror_mode": {
    "name": "ipython",
    "version": 3
   },
   "file_extension": ".py",
   "mimetype": "text/x-python",
   "name": "python",
   "nbconvert_exporter": "python",
   "pygments_lexer": "ipython3",
   "version": "3.11.5"
  }
 },
 "nbformat": 4,
 "nbformat_minor": 5
}
