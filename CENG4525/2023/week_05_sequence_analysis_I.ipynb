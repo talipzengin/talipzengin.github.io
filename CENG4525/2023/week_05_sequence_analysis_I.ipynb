{
 "cells": [
  {
   "cell_type": "markdown",
   "metadata": {},
   "source": [
    "# Week V: Sequence Analysis: Transcription, Translation, Mutation"
   ]
  },
  {
   "cell_type": "markdown",
   "metadata": {},
   "source": [
    "## Sequence Objects"
   ]
  },
  {
   "cell_type": "markdown",
   "metadata": {},
   "source": [
    "In the field of Bioinformatics, biological sequences are arguably the primary focus. In this chapter, we will introduce the Biopython Seq object, which serves as a mechanism for handling sequences.\n",
    "\n",
    "Biological sequences are essentially composed of strings of letters, such as AGTACACTGGT. This format is common and intuitive since it mirrors the way sequences are typically represented in biological file formats.\n",
    "\n",
    "The key distinction between Seq objects and regular Python strings lies in their available methods. While the Seq object shares many methods with standard strings, it differentiates itself through its `translate()` method, which performs biological translation. Moreover, it offers additional biologically relevant methods like `reverse_complement()`."
   ]
  },
  {
   "cell_type": "markdown",
   "metadata": {},
   "source": [
    "### Sequences act like strings"
   ]
  },
  {
   "cell_type": "markdown",
   "metadata": {},
   "source": [
    "Mostly, we can handle Seq objects just like regular Python strings, which includes tasks like determining their length or iterating through their elements:"
   ]
  },
  {
   "cell_type": "code",
   "execution_count": null,
   "metadata": {},
   "outputs": [],
   "source": [
    "from Bio.Seq import Seq\n",
    "my_seq = Seq(\"GATCG\")\n",
    "for index, letter in enumerate(my_seq):\n",
    "    print(\"%i %s\" % (index, letter))"
   ]
  },
  {
   "cell_type": "code",
   "execution_count": null,
   "metadata": {},
   "outputs": [],
   "source": [
    "print(\"The first letter:\", my_seq[0]) \n",
    "print(\"The third letter:\", my_seq[2])\n",
    "print(\"The last letter:\", my_seq[-1])"
   ]
  },
  {
   "cell_type": "code",
   "execution_count": null,
   "metadata": {},
   "outputs": [],
   "source": [
    "print(len(my_seq))"
   ]
  },
  {
   "cell_type": "markdown",
   "metadata": {},
   "source": [
    "The Seq object has a .count() method, just like a string."
   ]
  },
  {
   "cell_type": "code",
   "execution_count": null,
   "metadata": {},
   "outputs": [],
   "source": [
    "Seq(\"AATTAA\").count(\"A\")"
   ]
  },
  {
   "cell_type": "code",
   "execution_count": null,
   "metadata": {},
   "outputs": [],
   "source": [
    "from Bio.Seq import Seq\n",
    "my_seq = Seq(\"GATCGATGGGCCTATATAGGATCGAAAATCGC\")\n",
    "len(my_seq)"
   ]
  },
  {
   "cell_type": "code",
   "execution_count": null,
   "metadata": {},
   "outputs": [],
   "source": [
    "my_seq.count(\"G\")"
   ]
  },
  {
   "cell_type": "code",
   "execution_count": null,
   "metadata": {},
   "outputs": [],
   "source": [
    "my_seq.count(\"ATG\")"
   ]
  },
  {
   "cell_type": "code",
   "execution_count": null,
   "metadata": {},
   "outputs": [],
   "source": [
    "100 * (my_seq.count(\"G\") + my_seq.count(\"C\")) / len(my_seq)"
   ]
  },
  {
   "cell_type": "markdown",
   "metadata": {},
   "source": [
    "While you could use the above snippet of code to calculate a GC%, note that the Bio.SeqUtils module has several GC functions already built. For example:"
   ]
  },
  {
   "cell_type": "code",
   "execution_count": null,
   "metadata": {},
   "outputs": [],
   "source": [
    "from Bio.Seq import Seq\n",
    "from Bio.SeqUtils import gc_fraction\n",
    "my_seq = Seq(\"GATCGATGGGCCTATATAGGATCGAAAATGGC\")\n",
    "gc_fraction(my_seq)"
   ]
  },
  {
   "cell_type": "markdown",
   "metadata": {},
   "source": [
    "Locating the first typical start codon, ATG, in an DNA sequence:"
   ]
  },
  {
   "cell_type": "code",
   "execution_count": null,
   "metadata": {},
   "outputs": [],
   "source": [
    "my_seq.find(\"ATG\")"
   ]
  },
  {
   "cell_type": "markdown",
   "metadata": {},
   "source": [
    "Locating the last typical start codon, ATG, in an DNA sequence:"
   ]
  },
  {
   "cell_type": "code",
   "execution_count": null,
   "metadata": {},
   "outputs": [],
   "source": [
    "my_seq.rfind(\"ATG\")"
   ]
  },
  {
   "cell_type": "markdown",
   "metadata": {},
   "source": [
    "Returns -1 if the subsequence is NOT found."
   ]
  },
  {
   "cell_type": "markdown",
   "metadata": {},
   "source": [
    "Return True if the Seq starts or ends with the given prefix, False otherwise."
   ]
  },
  {
   "cell_type": "code",
   "execution_count": null,
   "metadata": {},
   "outputs": [],
   "source": [
    "my_seq.startswith(\"ATG\")"
   ]
  },
  {
   "cell_type": "code",
   "execution_count": null,
   "metadata": {},
   "outputs": [],
   "source": [
    "my_seq.startswith((\"ATG\", \"GAT\", \"GGG\"), 0)"
   ]
  },
  {
   "cell_type": "code",
   "execution_count": null,
   "metadata": {},
   "outputs": [],
   "source": [
    "my_seq.endswith(\"GGC\")"
   ]
  },
  {
   "cell_type": "markdown",
   "metadata": {},
   "source": [
    "Note that using the Bio.SeqUtils.gc_fraction() function should automatically cope with mixed case sequences and the ambiguous nucleotide S which means G or C.\n",
    "\n",
    "Also note that just like a normal Python string, the Seq object is in some ways “read-only”. If you need to edit your sequence, for example simulating a point mutation, look at the section below which talks about the MutableSeq object."
   ]
  },
  {
   "cell_type": "markdown",
   "metadata": {},
   "source": [
    "### Slicing a sequence"
   ]
  },
  {
   "cell_type": "markdown",
   "metadata": {},
   "source": [
    "Let’s get a slice of the sequence:"
   ]
  },
  {
   "cell_type": "code",
   "execution_count": null,
   "metadata": {},
   "outputs": [],
   "source": [
    "from Bio.Seq import Seq\n",
    "my_seq = Seq(\"GATCGATGGGCCTATATAGGATCGAAAATCGC\")\n",
    "my_seq[4:12]"
   ]
  },
  {
   "cell_type": "markdown",
   "metadata": {},
   "source": [
    "If you really do just need a plain string, for example to write to a file, or inSt into a database, then this is very easy to get:"
   ]
  },
  {
   "cell_type": "code",
   "execution_count": null,
   "metadata": {},
   "outputs": [],
   "source": [
    "str(my_seq)"
   ]
  },
  {
   "cell_type": "markdown",
   "metadata": {},
   "source": [
    "`print` function does this conversion, too:"
   ]
  },
  {
   "cell_type": "code",
   "execution_count": null,
   "metadata": {},
   "outputs": [],
   "source": [
    "print(my_seq)"
   ]
  },
  {
   "cell_type": "markdown",
   "metadata": {},
   "source": [
    "Also like a Python string, you can do slices with a start, stop and stride (the step size, which defaults to one). For example, we can get the first, second and third codon positions of this DNA sequence:"
   ]
  },
  {
   "cell_type": "code",
   "execution_count": null,
   "metadata": {},
   "outputs": [],
   "source": [
    "print(my_seq[0::3])"
   ]
  },
  {
   "cell_type": "code",
   "execution_count": null,
   "metadata": {},
   "outputs": [],
   "source": [
    "print(my_seq[1::3])"
   ]
  },
  {
   "cell_type": "code",
   "execution_count": null,
   "metadata": {},
   "outputs": [],
   "source": [
    "print(my_seq[2::3])"
   ]
  },
  {
   "cell_type": "markdown",
   "metadata": {},
   "source": [
    "Another stride trick you might have seen with a Python string is the use of a -1 stride to reverse the string. You can do this with a Seq object too:"
   ]
  },
  {
   "cell_type": "code",
   "execution_count": null,
   "metadata": {},
   "outputs": [],
   "source": [
    "print(my_seq[::-1])"
   ]
  },
  {
   "cell_type": "markdown",
   "metadata": {},
   "source": [
    "You can also use the Seq object directly with a `%s` placeholder when using the Python string formatting or interpolation operator (`%`):"
   ]
  },
  {
   "cell_type": "code",
   "execution_count": null,
   "metadata": {},
   "outputs": [],
   "source": [
    "fasta_format_string = \">Name\\n%s\\n\" % my_seq\n",
    "print(fasta_format_string)"
   ]
  },
  {
   "cell_type": "markdown",
   "metadata": {},
   "source": [
    "### Concatenating or adding sequences"
   ]
  },
  {
   "cell_type": "markdown",
   "metadata": {},
   "source": [
    "Two Seq objects can be concatenated by adding them:"
   ]
  },
  {
   "cell_type": "code",
   "execution_count": null,
   "metadata": {},
   "outputs": [],
   "source": [
    "from Bio.Seq import Seq\n",
    "seq1 = Seq(\"ACGT\")\n",
    "seq2 = Seq(\"AACCGG\")\n",
    "print(seq1 + seq2)"
   ]
  },
  {
   "cell_type": "code",
   "execution_count": null,
   "metadata": {},
   "outputs": [],
   "source": [
    "seq = Seq('ATG') * 2\n",
    "print(seq)\n",
    "seq *= 2\n",
    "print(seq)"
   ]
  },
  {
   "cell_type": "markdown",
   "metadata": {},
   "source": [
    "Biopython does not check the sequence contents and will not raise an exception if for example you concatenate a Ptein sequence and a DNA sequence (which is likely a mistake):"
   ]
  },
  {
   "cell_type": "code",
   "execution_count": null,
   "metadata": {},
   "outputs": [],
   "source": [
    "from Bio.Seq import Seq\n",
    "Ptein_seq = Seq(\"EVRNAK\")\n",
    "dna_seq = Seq(\"ACGT\")\n",
    "print(Ptein_seq + dna_seq)"
   ]
  },
  {
   "cell_type": "markdown",
   "metadata": {},
   "source": [
    "You may often have many sequences to add together, which can be done with a for loop like this:"
   ]
  },
  {
   "cell_type": "code",
   "execution_count": null,
   "metadata": {},
   "outputs": [],
   "source": [
    "from Bio.Seq import Seq\n",
    "list_of_seqs = [Seq(\"ACGT\"), Seq(\"AACC\"), Seq(\"GGTT\")]\n",
    "concatenated = Seq(\"\")\n",
    "for s in list_of_seqs:\n",
    "    concatenated += s\n",
    "\n",
    "print(concatenated)"
   ]
  },
  {
   "cell_type": "markdown",
   "metadata": {},
   "source": [
    "Or, a more elegant approach is to the use built in sum function with its optional start value argument (which otherwise defaults to zero):"
   ]
  },
  {
   "cell_type": "code",
   "execution_count": null,
   "metadata": {},
   "outputs": [],
   "source": [
    "print(sum(list_of_seqs, Seq(\"\")))"
   ]
  },
  {
   "cell_type": "markdown",
   "metadata": {},
   "source": [
    "Like Python strings, Biopython Seq also has a .join method:"
   ]
  },
  {
   "cell_type": "code",
   "execution_count": null,
   "metadata": {},
   "outputs": [],
   "source": [
    "from Bio.Seq import Seq\n",
    "contigs = [Seq(\"ATG\"), Seq(\"ATCCCG\"), Seq(\"TTGCA\")]\n",
    "spacer = Seq(\"\" * 10)\n",
    "print(spacer.join(contigs))"
   ]
  },
  {
   "cell_type": "markdown",
   "metadata": {},
   "source": [
    "### Changing case\n",
    "Python strings have very useful upper and lower methods for changing the case."
   ]
  },
  {
   "cell_type": "code",
   "execution_count": null,
   "metadata": {},
   "outputs": [],
   "source": [
    "from Bio.Seq import Seq\n",
    "dna_seq = Seq(\"acgtACGT\")\n",
    "print(dna_seq)\n",
    "print(dna_seq.upper())\n",
    "print(dna_seq.lower())"
   ]
  },
  {
   "cell_type": "markdown",
   "metadata": {},
   "source": [
    "These are useful for doing case insensitive matching:"
   ]
  },
  {
   "cell_type": "code",
   "execution_count": null,
   "metadata": {},
   "outputs": [],
   "source": [
    "\"GTAC\" in dna_seq"
   ]
  },
  {
   "cell_type": "code",
   "execution_count": null,
   "metadata": {},
   "outputs": [],
   "source": [
    "\"GTAC\" in dna_seq.upper()"
   ]
  },
  {
   "cell_type": "markdown",
   "metadata": {},
   "source": [
    "## Nucleotide sequences and (reverse) complements"
   ]
  },
  {
   "cell_type": "markdown",
   "metadata": {},
   "source": [
    "For nucleotide sequences, you can easily obtain the **complement** or **reverse complement** of a Seq object using its built-in methods:"
   ]
  },
  {
   "cell_type": "code",
   "execution_count": null,
   "metadata": {},
   "outputs": [],
   "source": [
    "from Bio.Seq import Seq\n",
    "my_seq = Seq(\"GATCGATGGGCCTATATAGGATCGAAAATCGC\")\n",
    "print(\"-Original sequence-\")\n",
    "print(my_seq)\n",
    "print(my_seq.complement())\n",
    "print(\"-Complementary sequence-\")"
   ]
  },
  {
   "cell_type": "code",
   "execution_count": null,
   "metadata": {},
   "outputs": [],
   "source": [
    "print(\"Original sequence:\")\n",
    "print(my_seq)\n",
    "print(\"Reversed sequence:\")\n",
    "print(my_seq[::-1])"
   ]
  },
  {
   "cell_type": "code",
   "execution_count": null,
   "metadata": {},
   "outputs": [],
   "source": [
    "print(\"Original sequence:\")\n",
    "print(my_seq)\n",
    "print(\"-Reversed sequence-\")\n",
    "print(my_seq[::-1])\n",
    "print(my_seq.reverse_complement())\n",
    "print(\"-Reverse Complementary sequence-\")"
   ]
  },
  {
   "cell_type": "markdown",
   "metadata": {},
   "source": [
    "In all of these operations, the alphabet property is maintained. This is very useful in case you accidentally end up trying to do something weird like take the (reverse)complement of a protein sequence:"
   ]
  },
  {
   "cell_type": "code",
   "execution_count": null,
   "metadata": {},
   "outputs": [],
   "source": [
    "from Bio.Seq import Seq\n",
    "protein_seq = Seq(\"EVRNAK\")\n",
    "protein_seq.complement()\n",
    "print(\"Proteins do not have complements!\")"
   ]
  },
  {
   "cell_type": "markdown",
   "metadata": {},
   "source": [
    "## Transcription"
   ]
  },
  {
   "cell_type": "markdown",
   "metadata": {},
   "source": [
    "Consider the following (made up) stretch of double stranded DNA which encodes a short peptide:\n",
    "\n",
    "Before Transcription |\n",
    "-----:|\n",
    "DNA coding strand (Crick strand, strand +1)\t|\n",
    "5'-ATGGCCATTGTAATGGGCCGCTGAAAGGGTGCCCGATAG-3'\t|\n",
    "3'-TACCGGTAACATTACCCGGCGACTTTCCCACGGGCTATC-5'\t|\n",
    "DNA template strand (Watson strand, strand -1)\t|\n",
    "**After Transcription**\t|\n",
    "Single stranded messenger RNA\t|\n",
    "5'-AUGGCCAUUGUAAUGGGCCGCUGAAAGGGUGCCCGAUAG-3'\t|\n",
    " \t\t \n",
    "The actual biological transcription process works from the template strand (-1), doing a complement (TAC -> AUG) to give the mRNA. However, in Biopython and bioinformatics in general, we typically work directly with the coding strand (+1) because this means we can get the mRNA sequence just by switching T -> U."
   ]
  },
  {
   "cell_type": "markdown",
   "metadata": {},
   "source": [
    "Now let’s actually get down to doing a transcription in Biopython. First, let’s create Seq objects for the coding and template DNA strands:"
   ]
  },
  {
   "cell_type": "code",
   "execution_count": null,
   "metadata": {},
   "outputs": [],
   "source": [
    "coding_dna = Seq(\"ATGGCCATTGTAATGGGCCGCTGAAAGGGTGCCCGATAG\")\n",
    "print(\"Coding strand:\")\n",
    "print(\"5'-\", coding_dna, \"-3'\")\n",
    "print(\"Template strand:\")\n",
    "template_dna = coding_dna.reverse_complement()\n",
    "print(\"5'-\",template_dna,\"-3'\")"
   ]
  },
  {
   "cell_type": "code",
   "execution_count": null,
   "metadata": {},
   "outputs": [],
   "source": [
    "coding_dna = Seq(\"ATGGCCATTGTAATGGGCCGCTGAAAGGGTGCCCGATAG\")\n",
    "print(\"Coding strand:\")\n",
    "print(\"5'-\", coding_dna, \"-3'\")\n",
    "print(\"Wrong Template strand:\")\n",
    "complement_dna = coding_dna.complement()\n",
    "print(\"5'-\",complement_dna,\"-3'\")"
   ]
  },
  {
   "cell_type": "code",
   "execution_count": null,
   "metadata": {},
   "outputs": [],
   "source": [
    "coding_dna = Seq(\"ATGGCCATTGTAATGGGCCGCTGAAAGGGTGCCCGATAG\")\n",
    "print(\" DNA: 5'-\", coding_dna, \"-3'\")\n",
    "messenger_rna = coding_dna.transcribe()\n",
    "print(\"mRNA: 5'-\", messenger_rna, \"-3'\")"
   ]
  },
  {
   "cell_type": "markdown",
   "metadata": {},
   "source": [
    "As you can see, all this does is switch T → U, and adjust the alphabet."
   ]
  },
  {
   "cell_type": "code",
   "execution_count": null,
   "metadata": {},
   "outputs": [],
   "source": [
    "# You can also directly change DNA to RNA\n",
    "messenger_rna = coding_dna.replace('T','U')\n",
    "print(messenger_rna)"
   ]
  },
  {
   "cell_type": "markdown",
   "metadata": {},
   "source": [
    "If you do want to do a true biological transcription starting with the template strand, then this becomes a two-step process:"
   ]
  },
  {
   "cell_type": "code",
   "execution_count": null,
   "metadata": {},
   "outputs": [],
   "source": [
    "print(\"Template strand:\")\n",
    "print(\"5'-\", template_dna, \"-3'\")\n",
    "print(\"mRNA:\")\n",
    "print(\"5'-\", template_dna.reverse_complement().transcribe(), \"-3'\")"
   ]
  },
  {
   "cell_type": "markdown",
   "metadata": {},
   "source": [
    "The Seq object also includes a back-transcription method for going from the mRNA to the coding strand of the DNA. Again, this is a simple U →\n",
    " T substitution and associated change of alphabet:"
   ]
  },
  {
   "cell_type": "code",
   "execution_count": null,
   "metadata": {},
   "outputs": [],
   "source": [
    "print(messenger_rna.back_transcribe())"
   ]
  },
  {
   "cell_type": "markdown",
   "metadata": {},
   "source": [
    "## Translation"
   ]
  },
  {
   "cell_type": "markdown",
   "metadata": {},
   "source": [
    "In the first script, we will translate the given DNA sequence into the protein according to pre-defined codons for aa representation using a predefined function."
   ]
  },
  {
   "cell_type": "code",
   "execution_count": 10,
   "metadata": {},
   "outputs": [],
   "source": [
    "# Here is the genetic code of the amino acids defined as dictionaries\n",
    "standard_genetic_code = {'UUU':'F', 'UUC':'F', 'UCU':'S', 'UCC':'S',\n",
    "                        'UAU':'Y', 'UAC':'Y', 'UGU':'C', 'UGC':'C',\n",
    "                        'UUA':'L', 'UCA':'S', 'UAA':'*', 'UGA':'*',\n",
    "                        'UUG':'L', 'UCG':'S', 'UAG':'*', 'UGG':'W',\n",
    "                        'CUU':'L', 'CUC':'L', 'CCU':'P', 'CCC':'P',\n",
    "                        'CAU':'H', 'CAC':'H', 'CGU':'R', 'CGC':'R',\n",
    "                        'CUA':'L', 'CUG':'L', 'CCA':'P', 'CCG':'P',\n",
    "                        'CAA':'Q', 'CAG':'Q', 'CGA':'R', 'CGG':'R',\n",
    "                        'AUU':'I', 'AUC':'I', 'ACU':'T', 'ACC':'T',\n",
    "                        'AAU':'N', 'AAC':'N', 'AGU':'S', 'AGC':'S',\n",
    "                        'AUA':'I', 'ACA':'T', 'AAA':'K', 'AGA':'R',\n",
    "                        'AUG':'M', 'ACG':'T', 'AAG':'K', 'AGG':'R',\n",
    "                        'GUU':'V', 'GUC':'V', 'GCU':'A', 'GCC':'A',\n",
    "                        'GAU':'D', 'GAC':'D', 'GGU':'G', 'GGC':'G',\n",
    "                        'GUA':'V', 'GUG':'V', 'GCA':'A', 'GCG':'A',\n",
    "                        'GAA':'E', 'GAG':'E', 'GGA':'G', 'GGG':'G'\n",
    "                        }\n",
    "\n",
    "def proteinTranslation(seq, geneticCode):\n",
    "    \"\"\" This function translates a nucleic acid sequence into a\n",
    "    protein sequence, until the end or until it comes across\n",
    "    a stop codon \"\"\"\n",
    "    # Changes all the T into U, DNA to RNA\n",
    "    seq = seq.replace('T','U') # Make sure we have RNA sequence\n",
    "    proteinSeq = [] # Initializing the proteinSeq list to store the output\n",
    "    \n",
    "    i = 0\n",
    "    while i+2 < len(seq):\n",
    "        # Get codons of three letters\n",
    "        codon = seq[i:i+3] \n",
    "        # Get the match-up aminoacid\n",
    "        aminoAcid = geneticCode[codon] \n",
    "        # If found stop looping\n",
    "        if aminoAcid is None: # Found stop codon\n",
    "            break \n",
    "        # Other wise add that aminoacid to proteinSeq list\n",
    "        proteinSeq.append(aminoAcid) \n",
    "        i += 3 \n",
    "    \n",
    "    return ''.join(proteinSeq)"
   ]
  },
  {
   "cell_type": "code",
   "execution_count": null,
   "metadata": {},
   "outputs": [],
   "source": [
    "# DNA sequence\n",
    "dnaSeq = 'ATGGTGCATCTGACTCCTGAGGAGAAGTCTGCCGTTACTGCCCTGTGGGGCAAGGTG'\n",
    "\n",
    "print(proteinTranslation(dnaSeq, standard_genetic_code))"
   ]
  },
  {
   "cell_type": "markdown",
   "metadata": {},
   "source": [
    "Sticking with the same example discussed in the transcription section above, now let’s translate this mRNA into the corresponding protein sequence - again taking advantage of one of the Seq object’s biological methods:"
   ]
  },
  {
   "cell_type": "code",
   "execution_count": null,
   "metadata": {},
   "outputs": [],
   "source": [
    "print(messenger_rna.translate())"
   ]
  },
  {
   "cell_type": "markdown",
   "metadata": {},
   "source": [
    "You can also translate directly from the coding strand DNA sequence:"
   ]
  },
  {
   "cell_type": "code",
   "execution_count": null,
   "metadata": {},
   "outputs": [],
   "source": [
    "print(coding_dna.translate())"
   ]
  },
  {
   "cell_type": "markdown",
   "metadata": {},
   "source": [
    "You should notice in the above protein sequences that in addition to the end stop character, there is an internal stop as well. This was a deliberate choice of example, as it gives an excuse to talk about some optional arguments, including different translation tables (Genetic Codes)."
   ]
  },
  {
   "cell_type": "markdown",
   "metadata": {},
   "source": [
    "By default, translation will use the standard genetic code (NCBI table id 1). Suppose we are dealing with a mitochondrial sequence. We need to tell the translation function to use the relevant genetic code instead:"
   ]
  },
  {
   "cell_type": "code",
   "execution_count": null,
   "metadata": {},
   "outputs": [],
   "source": [
    "print(coding_dna.translate(table=\"Vertebrate Mitochondrial\"))"
   ]
  },
  {
   "cell_type": "markdown",
   "metadata": {},
   "source": [
    "Now, you may want to translate the nucleotides up to the first in frame stop codon, and then stop (as happens in nature):"
   ]
  },
  {
   "cell_type": "code",
   "execution_count": null,
   "metadata": {},
   "outputs": [],
   "source": [
    "print(coding_dna.translate())\n",
    "print(coding_dna.translate(to_stop=True))"
   ]
  },
  {
   "cell_type": "code",
   "execution_count": null,
   "metadata": {},
   "outputs": [],
   "source": [
    "print(coding_dna.translate(table=\"Vertebrate Mitochondrial\", to_stop=True))"
   ]
  },
  {
   "cell_type": "markdown",
   "metadata": {},
   "source": [
    "Now, suppose you have a complete coding sequence CDS, which is to say a nucleotide sequence (e.g. mRNA – after any splicing) which is a whole number of codons (i.e. the length is a multiple of three), commences with a start codon, ends with a stop codon, and has no internal in-frame stop codons. In general, given a complete CDS, the default translate method will do what you want (perhaps with the to_stop option). However, what if your sequence uses a non-standard start codon? This happens a lot in bacteria – for example the gene yaaX in E. coli K12:"
   ]
  },
  {
   "cell_type": "code",
   "execution_count": null,
   "metadata": {},
   "outputs": [],
   "source": [
    "gene = Seq(\"GTGAAAAAGATGCAATCTATCGTACTCGCACTTTCCCTGGTTCTGGTCGCTCCCATGGCA\" +\n",
    "           \"GCACAGGCTGCGGAAATTACGTTAGTCCCGTCAGTAAAATTACAGATAGGCGATCGTGAT\" +\n",
    "           \"AATCGTGGCTATTACTGGGATGGAGGTCACTGGCGCGACCACGGCTGGTGGAAACAACAT\" +\n",
    "           \"TATGAATGGCGAGGCAATCGCTGGCACCTACACGGACCGCCGCCACCGCCGCGCCACCAT\" +\n",
    "           \"AAGAAAGCTCCTCATGATCATCACGGCGGTCATGGTCCAGGCAAACATCACCGCTAA\")\n",
    "print(gene.translate(table=\"Bacterial\"))"
   ]
  },
  {
   "cell_type": "markdown",
   "metadata": {},
   "source": [
    "In the bacterial genetic code GTG is a valid start codon, and while it does normally encode Valine, if used as a start codon it should be translated as methionine. This happens if you tell Biopython your sequence is a complete CDS:"
   ]
  },
  {
   "cell_type": "code",
   "execution_count": null,
   "metadata": {},
   "outputs": [],
   "source": [
    "print(gene.translate(table=\"Bacterial\", cds=True))"
   ]
  },
  {
   "cell_type": "markdown",
   "metadata": {},
   "source": [
    "In addition to telling Biopython to translate an alternative start codon as methionine, using this option also makes sure your sequence really is a valid CDS (you’ll get an exception if not)."
   ]
  },
  {
   "cell_type": "markdown",
   "metadata": {},
   "source": [
    "### Translation Tables"
   ]
  },
  {
   "cell_type": "markdown",
   "metadata": {},
   "source": [
    "Seq object translation methods internally use codon table objects derived from the NCBI information at ftp://ftp.ncbi.nlm.nih.gov/entrez/misc/data/gc.prt, also shown on http://www.ncbi.nlm.nih.gov/Taxonomy/Utils/wprintgc.cgi in a much more readable layout.\n",
    "\n",
    "As before, let’s just focus on two choices: the Standard translation table, and the translation table for Vertebrate Mitochondrial DNA."
   ]
  },
  {
   "cell_type": "code",
   "execution_count": 6,
   "metadata": {},
   "outputs": [],
   "source": [
    "from Bio.Data import CodonTable\n",
    "standard_codon_table = CodonTable.unambiguous_dna_by_name[\"Standard\"]\n",
    "bactarial_codon_table = CodonTable.unambiguous_dna_by_name[\"Bacterial\"]"
   ]
  },
  {
   "cell_type": "markdown",
   "metadata": {},
   "source": [
    "You can compare the actual tables visually by printing them:"
   ]
  },
  {
   "cell_type": "code",
   "execution_count": 7,
   "metadata": {},
   "outputs": [
    {
     "name": "stdout",
     "output_type": "stream",
     "text": [
      "Table 1 Standard, SGC0\n",
      "\n",
      "  |  T      |  C      |  A      |  G      |\n",
      "--+---------+---------+---------+---------+--\n",
      "T | TTT F   | TCT S   | TAT Y   | TGT C   | T\n",
      "T | TTC F   | TCC S   | TAC Y   | TGC C   | C\n",
      "T | TTA L   | TCA S   | TAA Stop| TGA Stop| A\n",
      "T | TTG L(s)| TCG S   | TAG Stop| TGG W   | G\n",
      "--+---------+---------+---------+---------+--\n",
      "C | CTT L   | CCT P   | CAT H   | CGT R   | T\n",
      "C | CTC L   | CCC P   | CAC H   | CGC R   | C\n",
      "C | CTA L   | CCA P   | CAA Q   | CGA R   | A\n",
      "C | CTG L(s)| CCG P   | CAG Q   | CGG R   | G\n",
      "--+---------+---------+---------+---------+--\n",
      "A | ATT I   | ACT T   | AAT N   | AGT S   | T\n",
      "A | ATC I   | ACC T   | AAC N   | AGC S   | C\n",
      "A | ATA I   | ACA T   | AAA K   | AGA R   | A\n",
      "A | ATG M(s)| ACG T   | AAG K   | AGG R   | G\n",
      "--+---------+---------+---------+---------+--\n",
      "G | GTT V   | GCT A   | GAT D   | GGT G   | T\n",
      "G | GTC V   | GCC A   | GAC D   | GGC G   | C\n",
      "G | GTA V   | GCA A   | GAA E   | GGA G   | A\n",
      "G | GTG V   | GCG A   | GAG E   | GGG G   | G\n",
      "--+---------+---------+---------+---------+--\n"
     ]
    }
   ],
   "source": [
    "print(standard_codon_table)"
   ]
  },
  {
   "cell_type": "code",
   "execution_count": null,
   "metadata": {},
   "outputs": [],
   "source": [
    "print(bactarial_codon_table)"
   ]
  },
  {
   "cell_type": "code",
   "execution_count": null,
   "metadata": {},
   "outputs": [],
   "source": [
    "print(standard_codon_table.stop_codons)\n",
    "print(standard_codon_table.start_codons)\n",
    "print(standard_codon_table.forward_table[\"ACG\"])"
   ]
  },
  {
   "cell_type": "markdown",
   "metadata": {},
   "source": [
    "## Comparing Seq objects\n",
    "Sequence comparison is actually a very complicated topic, and there is no easy way to decide if two sequences are equal. The basic problem is the meaning of the letters in a sequence are context dependent - the letter ``A’’ could be part of a DNA, RNA or protein sequence. Biopython uses alphabet objects as part of each Seq object to try and capture this information - so comparing two Seq objects means considering both the sequence strings and the alphabets."
   ]
  },
  {
   "cell_type": "code",
   "execution_count": 98,
   "metadata": {},
   "outputs": [],
   "source": [
    "seq1 = Seq(\"ACGT\")\n",
    "seq2 = Seq(\"ACGT\")"
   ]
  },
  {
   "cell_type": "code",
   "execution_count": null,
   "metadata": {},
   "outputs": [],
   "source": [
    "print(seq1 == seq2)"
   ]
  },
  {
   "cell_type": "code",
   "execution_count": null,
   "metadata": {},
   "outputs": [],
   "source": [
    "print(id(seq1) == id(seq2))"
   ]
  },
  {
   "cell_type": "code",
   "execution_count": null,
   "metadata": {},
   "outputs": [],
   "source": [
    "print(id(seq1))\n",
    "print(id(seq2))"
   ]
  },
  {
   "cell_type": "code",
   "execution_count": null,
   "metadata": {},
   "outputs": [],
   "source": [
    "print(str(seq1) == str(seq2))"
   ]
  },
  {
   "cell_type": "markdown",
   "metadata": {},
   "source": [
    "## MutableSeq Objects\n",
    "Just like the normal Python string, the Seq object is ``read only’‘, or in Python terminology, immutable. Apart from wanting the Seq object to act like a string, this is also a useful default since in many biological applications you want to ensure you are not changing your sequence data:"
   ]
  },
  {
   "cell_type": "code",
   "execution_count": null,
   "metadata": {},
   "outputs": [],
   "source": [
    "my_seq = Seq(\"GCCATTGTAATGGGCCGCTGAAAGGGTGCCCGA\")\n",
    "try:\n",
    "    my_seq[0] = \"A\"\n",
    "except Exception as e:\n",
    "    print(e)"
   ]
  },
  {
   "cell_type": "markdown",
   "metadata": {},
   "source": [
    "However, you can convert it into a mutable sequence (a MutableSeq object) and do pretty much anything you want with it."
   ]
  },
  {
   "cell_type": "code",
   "execution_count": null,
   "metadata": {},
   "outputs": [],
   "source": [
    "from Bio.Seq import MutableSeq\n",
    "mutable_seq = MutableSeq(my_seq)\n",
    "mutable_seq"
   ]
  },
  {
   "cell_type": "markdown",
   "metadata": {},
   "source": [
    "Alternatively, you can create a MutableSeq object directly from a string:"
   ]
  },
  {
   "cell_type": "code",
   "execution_count": 111,
   "metadata": {},
   "outputs": [],
   "source": [
    "from Bio.Seq import MutableSeq\n",
    "mutable_seq = MutableSeq(\"GCCATTGTAATG\")"
   ]
  },
  {
   "cell_type": "markdown",
   "metadata": {},
   "source": [
    "Either way will give you a sequence object which can be changed:"
   ]
  },
  {
   "cell_type": "code",
   "execution_count": null,
   "metadata": {},
   "outputs": [],
   "source": [
    "mutable_seq[0] = \"C\"\n",
    "print(mutable_seq)\n",
    "mutable_seq.remove(\"A\")\n",
    "print(mutable_seq)\n",
    "mutable_seq.reverse()\n",
    "print(mutable_seq)"
   ]
  },
  {
   "cell_type": "code",
   "execution_count": null,
   "metadata": {},
   "outputs": [],
   "source": [
    "# Add a subsequence to the mutable sequence object:\n",
    "mutable_seq.append('A')\n",
    "print(mutable_seq)\n",
    "\n",
    "# Add a subsequence to the mutable sequence object at a given index:\n",
    "mutable_seq.insert(8,'G')\n",
    "print(mutable_seq)\n",
    "\n",
    "# Remove a subsequence of a single letter at given index:\n",
    "# Returns the last character of the sequence as default.\n",
    "mutable_seq.pop()\n",
    "print(mutable_seq)"
   ]
  },
  {
   "cell_type": "markdown",
   "metadata": {},
   "source": [
    "Once you have finished editing your a MutableSeq object, it’s easy to get back to a read-only Seq object should you need to:"
   ]
  },
  {
   "cell_type": "code",
   "execution_count": null,
   "metadata": {},
   "outputs": [],
   "source": [
    "from Bio.Seq import Seq\n",
    "new_seq = Seq(mutable_seq)\n",
    "new_seq"
   ]
  },
  {
   "cell_type": "markdown",
   "metadata": {},
   "source": [
    "## Working with strings directly\n",
    "To close this chapter, for those you who really don’t want to use the sequence objects (or who prefer a functional programming style to an object orientated one), there are module level functions in Bio.Seq will accept plain Python strings, Seq objects (including UnknownSeq objects) or MutableSeq objects:"
   ]
  },
  {
   "cell_type": "code",
   "execution_count": null,
   "metadata": {},
   "outputs": [],
   "source": [
    "from Bio.Seq import reverse_complement, transcribe, back_transcribe, translate\n",
    "my_string = \"GCTGTTATGGGTCGTTGGAAGGGTGGTCGTGCTGCTGGTTAG\"\n",
    "print(reverse_complement(my_string))\n",
    "print(transcribe(my_string))\n",
    "print(back_transcribe(my_string))\n",
    "print(translate(my_string))"
   ]
  },
  {
   "cell_type": "markdown",
   "metadata": {},
   "source": [
    "## Homework\n",
    "\n",
    "Prepare a Jupyter notebook to achive the goals below and upload to 'Homeworks/Week_05' folder under Google Drive directory of the course.\n",
    "\n",
    "* Translate the TP53 mRNA CDS to protein and save into a fasta file with description\n",
    "* Read that fasta file \n",
    "* Then calculate the frequency of each aminoacid -> create a table, save it to tsv/csv file and draw a histogram"
   ]
  }
 ],
 "metadata": {
  "kernelspec": {
   "display_name": "Python 3 (ipykernel)",
   "language": "python",
   "name": "python3"
  },
  "language_info": {
   "codemirror_mode": {
    "name": "ipython",
    "version": 3
   },
   "file_extension": ".py",
   "mimetype": "text/x-python",
   "name": "python",
   "nbconvert_exporter": "python",
   "pygments_lexer": "ipython3",
   "version": "3.11.5"
  }
 },
 "nbformat": 4,
 "nbformat_minor": 4
}
