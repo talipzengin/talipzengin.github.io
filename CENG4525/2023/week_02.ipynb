{
 "cells": [
  {
   "cell_type": "markdown",
   "metadata": {
    "id": "-rOPxqlRXCqF"
   },
   "source": [
    "# CENG4525 Introduction to Bioinformatics"
   ]
  },
  {
   "cell_type": "markdown",
   "metadata": {
    "id": "CKL7FaUGXCqM"
   },
   "source": [
    "## Basic Biological Mechanisms and Data"
   ]
  },
  {
   "cell_type": "markdown",
   "metadata": {
    "id": "kjwD0TscXCqN"
   },
   "source": [
    "..."
   ]
  },
  {
   "cell_type": "code",
   "execution_count": null,
   "metadata": {
    "vscode": {
     "languageId": "plaintext"
    }
   },
   "outputs": [],
   "source": [
    "library(tidyverse)"
   ]
  },
  {
   "cell_type": "markdown",
   "metadata": {
    "id": "fcCm5fe9XCqN"
   },
   "source": [
    "### Learning objectives"
   ]
  },
  {
   "cell_type": "markdown",
   "metadata": {
    "id": "y7ZbXEmFXCqO"
   },
   "source": [
    "The goal of this course is to introduce concepts of bioinformatics and modern scientific methods. Students completing the course should be able to:\n",
    "\n",
    "* Understand basic biological mechanisms and features of biological data.\n",
    "* Understand common problems of biology and possible solutions through computer science.\n",
    "* Read, write, and modify computer code in the Python language for biological data.\n",
    "* Understand the ideas behind the different bioinformatics algorithms.\n",
    "* Design, implement, and debug scripts to perform bio-computational tasks.\n",
    "* Model biological systems in a computational framework, and gain biological insights from those models in areas such as genetics, evolution, biochemistry and structural biology."
   ]
  },
  {
   "cell_type": "markdown",
   "metadata": {
    "id": "s4x0FMmEXCqT"
   },
   "source": [
    "## Tentative Schedule"
   ]
  },
  {
   "cell_type": "markdown",
   "metadata": {
    "id": "v-PGc5xiXCqT"
   },
   "source": [
    "Week | Date   | Topic |\n",
    "-----:|:--------|:--------------------------------|\n",
    "1     | Oct 05 | Overview of Bioinformatics |\n",
    "2     | Oct 12 | Basic Biological Mechanisms and Data |\n",
    "3     | Oct 19 | Biological Databases & Accessing databases |\n",
    "4     | Oct 26 | DNA/RNA/Protein Sequences & Objects |\n",
    "5     | Nov 02 | Sequence Analysis: Transcription, Translation, Mutation |\n",
    "6     | Nov 09 | Sequence Analysis: Sequence Alignments & Phylogenetics |\n",
    "7     | Nov 16 | Genome Analysis: Sequence Annotation |\n",
    "8     | Nov 23 | Transcriptome Analysis: RNAseq Data Analysis |\n",
    "9     | Nov 30 | Project Brainstorming & Planning |\n",
    "10    | Dec 07 | Project Proposals |\n",
    "11    | Dec 14 | Structural Biology |\n",
    "12    | Dec 21 | Protein Structure Prediction and Engineering |\n",
    "13    | Dec 28 | Biology of Diseases and Personalized Medicine |\n",
    "14    | Jan 04 | Project Presentations |"
   ]
  }
 ],
 "metadata": {
  "colab": {
   "provenance": []
  },
  "kernelspec": {
   "display_name": "Python 3 (ipykernel)",
   "language": "python",
   "name": "python3"
  },
  "language_info": {
   "codemirror_mode": {
    "name": "ipython",
    "version": 3
   },
   "file_extension": ".py",
   "mimetype": "text/x-python",
   "name": "python",
   "nbconvert_exporter": "python",
   "pygments_lexer": "ipython3",
   "version": "3.11.5"
  }
 },
 "nbformat": 4,
 "nbformat_minor": 4
}
