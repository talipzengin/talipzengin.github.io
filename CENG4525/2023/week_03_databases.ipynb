{
 "cells": [
  {
   "cell_type": "markdown",
   "metadata": {},
   "source": [
    "# Week III: Biological Databases & Accessing databases"
   ]
  },
  {
   "cell_type": "markdown",
   "metadata": {},
   "source": [
    "## Summary\n",
    "In the realm of modern genomic research, a notable characteristic is the production of vast quantities of raw sequence data. As the volume of genomic information expands, the management of this data surge requires advanced computational methods. Thus, the initial challenge in genomics lies in efficiently storing and handling this immense amount of data through the establishment and utilization of computer databases. Developing databases capable of managing the extensive molecular biological data is a fundamental task in the field of bioinformatics. This chapter provides an introduction to fundamental concepts related to databases, particularly focusing on the types, structures, and architectures of biological databases. It places emphasis on data retrieval from major biological databases like GenBank."
   ]
  },
  {
   "cell_type": "markdown",
   "metadata": {},
   "source": [
    "## What is database?\n",
    "A database serves as a computerized repository designed to store and structure data in a manner that facilitates easy retrieval through various search criteria. Databases consist of both computer hardware and software components dedicated to data management. The primary goal in creating a database is to arrange data into structured records, allowing for straightforward retrieval of information. Each record, also referred to as an entry, should include multiple fields for holding specific data items, such as fields for names, phone numbers, addresses, and dates. When seeking a specific record within the database, a user can specify a particular piece of information, called a value, located in a specific field, and expect the computer to retrieve the entire data record."
   ]
  },
  {
   "cell_type": "markdown",
   "metadata": {},
   "source": [
    "## Biological Databases\n",
    "Biological databases can be categorized into three main types according to their content: primary databases, secondary databases, and specialized databases.  \n",
    "\n",
    "Primary databases store original biological data, serving as repositories for the unprocessed raw sequence or structural data contributed by the scientific community. Notable examples of primary databases include GenBank and the Protein Data Bank (PDB).\n",
    "\n",
    "Secondary databases contain information that has been computationally processed or manually curated. This information is derived from the original data found in primary databases. This category includes databases housing translated protein sequences with functional annotations such as UniProt.\n",
    "\n",
    "Specialized databases are tailored to meet specific research interests. They are designed to focus on particular organisms or specific types of data. For instance, databases like Flybase, the HIV sequence database, and the Ribosomal Database Project are examples of specialized databases, each specializing in a particular organism or a specific data type. Another example [NCBI PubMed database](https://pubmed.ncbi.nlm.nih.gov) which is a biomedical literature database supporting the search and retrieval of biomedical and life sciences literature. PubMed contains more than 36 million citations and abstracts of biomedical literature.\n",
    "\n",
    "About the Content\n",
    "\n",
    "Citations in PubMed primarily stem from the biomedicine and health fields, and related disciplines such as life sciences, behavioral sciences, chemical sciences, and bioengineering."
   ]
  },
  {
   "cell_type": "markdown",
   "metadata": {},
   "source": [
    "### Nucleotide Sequence Databases\n",
    "\n",
    "#### [GenBank](https://www.ncbi.nlm.nih.gov/genbank/)\n",
    "GenBank is the NCBI genetic sequence database, an annotated collection of all publicly available DNA sequences. GenBank is part of the International Nucleotide Sequence Database Collaboration, which comprises the DNA DataBank of Japan (DDBJ), the European Nucleotide Archive (ENA), and GenBank at NCBI. These three organizations exchange data on a daily basis. GenBank releases occur every two months and is available from the [ftp site](https://ftp.ncbi.nih.gov/genbank/).\n",
    "#### [DDBJ](https://www.ddbj.nig.ac.jp/index-e.html)\n",
    "DDBJ (DNA Data Bank of Japan) shares annotated/assembled nucleotide sequence data as a member of [INSDC (International Nucleotide Sequence Database Collaboration)](https://www.insdc.org). DDBJ Center provides freely available nucleotide sequence data and supercomputer system, to support research activities in life science.\n",
    "#### [EMBL ENA](https://www.ebi.ac.uk/ena/browser/home)\n",
    "The European Nucleotide Archive (ENA) provides a comprehensive record of the world’s nucleotide sequencing information, covering raw sequencing data, sequence assembly information and functional annotation. [More about ENA](https://www.ebi.ac.uk/ena/browser/about).\n",
    "#### [miRBase](https://mirbase.org/)\n",
    "miRBase is a biological database that acts as an archive of microRNA sequences and annotations.\n",
    "#### [Rfam](https://rfam.org/)\n",
    "Rfam is a database containing information about non-coding RNA (ncRNA) families and other structured RNA elements.\n",
    "### Genome Databases\n",
    "#### [NCBI Genome Database](https://www.ncbi.nlm.nih.gov/genome/)\n",
    "The Genome database organizes information on genomes including sequences, maps, chromosomes, assemblies, and annotations. This resource contains sequence and map data from the whole genomes of over 1000 species or strains. The genomes represent both completely sequenced genomes and those with sequencing in-progress. All three main domains of life (bacteria, archaea, and eukaryota) are represented, as well as many viruses, phages, viroids, plasmids, and organelles.\n",
    "#### [Ensembl](https://www.ensembl.org/index.html)\n",
    "Ensembl is a genome browser for vertebrate genomes that supports research in comparative genomics, evolution, sequence variation and transcriptional regulation. Ensembl annotate genes, computes multiple alignments, predicts regulatory function and collects disease data. Ensembl tools include BLAST, BLAT, BioMart and the Variant Effect Predictor (VEP) for all supported species.  \n",
    "Mostly gene identifiers (gene IDs) of expression data are Ensembl Gene IDs and they need to be converted to different gene IDs or symbols of interest using BioMart tool.\n",
    "#### [GOLD](https://gold.jgi.doe.gov/)\n",
    "GOLD (Genomes Online Database), is a resource for comprehensive access to information regarding genome and metagenome sequencing projects, and their associated metadata, around the world."
   ]
  },
  {
   "cell_type": "markdown",
   "metadata": {},
   "source": [
    "### Domain and Motif Databases\n",
    "#### [InterPro](https://www.ebi.ac.uk/interpro/)\n",
    "InterPro provides functional analysis of proteins by classifying them into families and predicting domains and important sites. To classify proteins in this way, InterPro uses predictive models, known as signatures, provided by several different databases (referred to as member databases) that make up the InterPro consortium. InterPro combines protein signatures from these member databases into a single searchable resource, capitalising on their individual strengths to produce a powerful integrated database and diagnostic tool.\n",
    "#### [Prosite](https://prosite.expasy.org)\n",
    "PROSITE is a database of protein families and domains. It is based on the observation that, while there is a huge number of different proteins, most of them can be grouped, on the basis of similarities in their sequences, into a limited number of families. Proteins or protein domains belonging to a particular family generally share functional attributes and are derived from a common ancestor.\n",
    "PROSITE is complemented by ProRule, a collection of rules based on profiles and patterns, which increases the discriminatory power of profiles and patterns by providing additional information about functionally and/or structurally critical amino acids.\n",
    "#### [CDD](https://www.ncbi.nlm.nih.gov/cdd/)\n",
    "Conserved Domain Database (CDD) is a protein annotation resource that consists of a collection of well-annotated multiple sequence alignment models for ancient domains and full-length proteins. These are available as position-specific score matrices (PSSMs) for fast identification of conserved domains in protein sequences via RPS-BLAST. CDD content includes NCBI-curated domains, which use 3D-structure information to explicitly define domain boundaries and provide insights into sequence/structure/function relationships, as well as domain models imported from a number of external source databases (Pfam, SMART, COG, PRK, TIGRFAMs).\n",
    "#### [SMART](http://smart.embl-heidelberg.de)\n",
    "SMART (Simple Modular Architecture Research Tool) allows the identification and annotation of genetically mobile domains and the analysis of domain architectures. More than 500 domain families found in signalling, extracellular and chromatin-associated proteins are detectable. These domains are extensively annotated with respect to phyletic distributions, functional class, tertiary structures and functionally important residues. Each domain found in a non-redundant protein database as well as search parameters and taxonomic information are stored in a relational database system.\n",
    "#### [COG](https://www.ncbi.nlm.nih.gov/research/cog/)\n",
    "COGs (Clusters of Orthologous Genes) database includes complete genomes of 1,187 bacteria and 122 archaea that map into 1,234 genera. The new features include ~250 updated COG annotations with corresponding references and PDB links, where available; new COGs for proteins involved in CRISPR-Cas immunity, sporulation, and photosynthesis, and the lists of COGs grouped by pathways and functional systems.\n",
    "#### [TOPDOM](https://topdom.unitmp.org)\n",
    "TOPDOM (Conservatively Located Domains and Motifs in Proteins) is a collection of domains and sequence motifs located conservatively on one side of membranes either in transmembrane or globular proteins. The database was created by predicting the transmembrane status and topology of all protein sequences in UniProt (SwissProt) database by the CCTOP algorithm and scanning by specific domain or motif detecting algorithms. The identified domain or motif was added to the database if it was uniformly annotated in the same side of the membrane of the various proteins in UniProt (SwissProt) database. The sequences in the UniProt (SwissProt) database were scanned by InterProScan algorithm for domains and motifs from Gene3D, TIGRFAM/NCBIfam, PANTHER, PRINTS, Pfam, ProSiteProfiles, SMART, SUPERFAMILY."
   ]
  },
  {
   "cell_type": "markdown",
   "metadata": {},
   "source": [
    "### Protein Sequence Databases\n",
    "#### [UniProt](https://www.uniprot.org/)\n",
    "The Universal Protein Resource (UniProt) is the world’s leading high-quality, comprehensive and freely accessible resource of protein sequence and functional information. UniProt is a comprehensive resource for protein sequence and annotation data. The UniProt databases are the UniProt Knowledgebase (UniProtKB), the UniProt Reference Clusters (UniRef), and the UniProt Archive (UniParc).\n",
    "The Protein Information Resource (PIR), along with its international partners, EBI (European Bioinformatics Institute) and SIB (Swiss Institute of Bioinformatics), were awarded a grant from NIH to create UniProt, a single worldwide database of protein sequence and function, by unifying the PIR-PSD, Swiss-Prot, and TrEMBL databases.\n",
    "#### [NCBI Protein Database](https://www.ncbi.nlm.nih.gov/protein)\n",
    "The Protein database is a collection of sequences from several sources, including translations from annotated coding regions in GenBank, RefSeq and TPA, as well as records from SwissProt, PIR, PRF, and PDB. Protein sequences are the fundamental determinants of biological structure and function."
   ]
  },
  {
   "cell_type": "markdown",
   "metadata": {},
   "source": [
    "### Protein Structure Databases\n",
    "#### [wwPDB](https://www.wwpdb.org)\n",
    "The Protein Data Bank archive (PDB) has served as the single repository of information about the 3D structures of proteins, nucleic acids, and complex assemblies.\n",
    "\n",
    "**wwPDB Members**  \n",
    "[Research Collaboratory for Structural Bioinformatics Protein Data Bank](https://www.rcsb.org/)  \n",
    "Simple and advanced searching for macromolecules and ligands, flexible APIs for programmatic users, specialized 1D-3D visualization tools, Molecule of the Month and other training resources at PDB-101, and more.\n",
    "\n",
    "[Protein Data Bank in Europe](https://www.ebi.ac.uk/pdbe/)  \n",
    "Rich information about all PDB entries, multiple search and browse facilities, advanced services including PDBePISA, PDBeFold and PDBeMotif, advanced visualisation and validation of NMR and EM structures, tools for bioinformaticians.\n",
    "\n",
    "[Protein Data Bank Japan](https://www.pdbj.org/)  \n",
    "Supports browsing in multiple languages such as Japanese, Chinese, and Korean; SeSAW identifies functionally or evolutionarily conserved motifs by locating and annotating sequence and structural similarities, tools for bioinformaticians, and more.\n",
    "\n",
    "[Electron Microscopy Data Bank](http://emdb-empiar.org/)  \n",
    "Collects 3D volumes & associated information of macromolecular complexes & subcellular structures from electron cryo microscopy & electron cryo tomography; develops resources for searching, data mining, analyzing, validating & visualizing data.\n",
    "\n",
    "[Biological Magnetic Resonance Data Bank](http://bmrb.io/)  \n",
    "Collects NMR data from any experiment and captures assigned chemical shifts, coupling constants, and peak lists for a variety of macromolecules; contains derived annotations such as hydrogen exchange rates, pKa values, and relaxation parameters.\n",
    "\n",
    "#### [NCBI Structure](https://www.ncbi.nlm.nih.gov/structure)\n",
    "The Molecular Modeling Database (MMDB), as part of the Entrez system, facilitates access to structure data by connecting them with associated literature, protein and nucleic acid sequences, chemicals, biomolecular interactions, and more.\n",
    "\n",
    "#### [SCOP](https://scop.mrc-lmb.cam.ac.uk)\n",
    "SCOP (Structural Classification of Proteins) database, created by manual inspection and abetted by a battery of automated methods, aims to provide a detailed and comprehensive description of the structural and evolutionary relationships between all proteins whose structure is known. As such, it provides a broad survey of all known protein folds, detailed information about the close relatives of any particular protein, and a framework for future research and classification.\n",
    "#### [CATH](https://www.cathdb.info)\n",
    "The CATH database is a free, publicly available online resource that provides information on the evolutionary relationships of protein domains. Experimentally-determined protein three-dimensional structures are obtained from the Protein Data Bank and split into their consecutive polypeptide chains. Protein domains are identified within these chains using a mixture of automatic methods and manual curation. The domains are then classified within the CATH structural hierarchy.\n",
    "\n",
    "#### [AlphaFold Protein Structure Database](https://alphafold.ebi.ac.uk)\n"
   ]
  },
  {
   "cell_type": "markdown",
   "metadata": {},
   "source": [
    "### Gene Expression Databases\n",
    "#### [GEO](https://www.ncbi.nlm.nih.gov/geo/)\n",
    "GEO is an international public repository that archives and freely distributes microarray, next-generation sequencing, and other forms of high-throughput functional genomics data submitted by the research community. The GEO DataSets stores original submitter-supplied records (Series, Samples and Platforms) as well as curated DataSets.\n",
    "#### [GXD](https://www.informatics.jax.org/expression.shtml)\n",
    "MGI-Mouse Gene Expression Database (GXD) is a community resource for gene expression information from the laboratory mouse. GXD stores and integrates different types of expression data and makes these data freely available in formats appropriate for comprehensive analysis. There is particular emphasis on endogenous gene expression during mouse development.\n",
    "#### [ArrayExpress](https://www.ebi.ac.uk/biostudies/arrayexpress)\n",
    "The functional genomics data collection (ArrayExpress), stores data from high-throughput functional genomics experiments, and provides data for reuse to the research community. In line with community guidelines, a study typically contains metadata such as detailed sample annotations, protocols, processed data and raw data. Raw sequence reads from high-throughput sequencing studies are brokered to the European Nucleotide Archive (ENA), and links are provided to download the sequence reads from ENA. Data can be submitted to the ArrayExpress collection through its dedicated submission tool, Annotare."
   ]
  },
  {
   "cell_type": "markdown",
   "metadata": {},
   "source": [
    "### Pathway Databases\n",
    "#### [KEGG](https://www.genome.jp/kegg/)\n",
    "KEGG (Kyoto Encyclopedia of Genes and Genomes) is a database resource for understanding high-level functions and utilities of the biological system, such as the cell, the organism and the ecosystem, from molecular-level information, especially large-scale molecular datasets generated by genome sequencing and other high-throughput experimental technologies.\n",
    "#### [Reactome](https://reactome.org)\n",
    "Reactome is a pathway database containing cell metabolic and signaling pathways. Cold Spring Harbor Laboratory, European Bioinformatics Institute, and Gene Ontology Consortium are the main developers of the project. It has data for 23 species such as human, mouse and rat. The storage format is proprietary, a large number of pathways can be obtained in multiple formats.\n",
    "#### [BioCyc](https://www.biocyc.org)\n",
    "BioCyc is a pathway database focused on metabolic pathways originally formed by SRI International’s bioinformatics research group. Related to BioCyc are the [EcoCyc](https://ecocyc.org/) (E. coli Database), [MetaCyc](https://metacyc.org/) (Metabolic Pathway Database), [HumanCyc](https://humancyc.org) (Encyclopedia of Human Genes and Metabolism) databases. Humans and E. coli are the major organisms listed with a variety of others.\n",
    "#### [WikiPathways](https://www.wikipathways.org)\n",
    "WikiPathways is an open, collaborative platform dedicated to the curation of biological pathways.\n",
    "#### [Pathway Commons](https://www.pathwaycommons.org)\n",
    "Pathway Commons collects and disseminates biological pathway and interaction data.\n",
    "#### [Pathguide](http://www.pathguide.org)\n",
    "Pathguide contains information about 702 biological pathway related resources and molecular interaction related resources.\n",
    "#### [Human MSigDB](https://www.gsea-msigdb.org/gsea/msigdb/human/collections.jsp)\n",
    "Human MSigDB is the Human Molecular Signatures Database (MSigDB) consisting of the 33591 gene sets divided into 9 major collections, and several subcollections.\n",
    "#### [miRPathDB](https://mpd.bioinf.uni-sb.de)\n",
    "miRPathDB is one of the most comprehensive and advanced resources for miRNAs and their target pathways.\n",
    "#### [BRENDA](https://www.brenda-enzymes.org)\n",
    "BRENDA is the main collection of enzyme functional data available to the scientific community."
   ]
  },
  {
   "cell_type": "markdown",
   "metadata": {},
   "source": [
    "### Specialised Databases\n",
    "#### [PhosphoSitePlus](https://www.phosphosite.org/)\n",
    "PhosphoSitePlus provides comprehensive information and tools for the study of protein post-translational modifications (PTMs) including phosphorylation, acetylation, and more.\n",
    "#### [GPCRD](https://gpcrdb.org)\n",
    "The GPCRdb contains data, diagrams and web tools for G protein-coupled receptors (GPCRs).\n",
    "#### Databases for various model organisms\n",
    "* [Homo sapiens](https://www.ncbi.nlm.nih.gov/datasets/taxonomy/9606/)\n",
    "* [Mus musculus (mouse)](https://www.informatics.jax.org)\n",
    "* [Arabidopsis thaliana](https://www.arabidopsis.org)\n",
    "* [Oryza sativa (rice)](https://www.naro.go.jp/english/laboratory/nics/database/index.html)\n",
    "* [Drosophila melanogaster](https://flybase.org)\n",
    "* [Danio rerio (zebrafish)](https://zfin.org)\n",
    "* [Saccharomyces cerevisiae (Bakers yeast)](https://www.yeastgenome.org)\n",
    "* [Escherichia coli](https://www.genome.wisc.edu)"
   ]
  },
  {
   "cell_type": "markdown",
   "metadata": {},
   "source": [
    "### Projects\n",
    "* [BioImage Archive](https://www.ebi.ac.uk/bioimage-archive/)\n",
    "* [1000 Genomes Project](https://www.internationalgenome.org)\n",
    "* [The Human Protein Atlas](https://www.proteinatlas.org)\n",
    "* [The Human Cell Atlas](https://www.ebi.ac.uk/about/collaborations/human-cell-atlas)\n",
    "* [The Cancer Genome Atlas Program (TCGA)](https://portal.gdc.cancer.gov)\n",
    "* [The Cancer Imaging Archive](https://www.cancerimagingarchive.net/)\n",
    "* [COVID-19 Data Portal](https://www.covid19dataportal.org)\n",
    "* [The 1001 Genomes Project of the Arabidopsis thaliana](https://1001genomes.org)"
   ]
  },
  {
   "cell_type": "markdown",
   "metadata": {},
   "source": [
    "### Other Databases\n",
    "* [National Center for Biotechnology Information (NCBI) Databases](https://www.ncbi.nlm.nih.gov/guide/all/)\n",
    "* [EMBL-EBI Data Resources](https://www.ebi.ac.uk/services/data-resources-and-tools#)\n",
    "* [Swiss Institute of Bioinformatics (SIB)](https://www.expasy.org/)\n",
    "* [Wikipedia list of biological databases](https://en.wikipedia.org/wiki/List_of_biological_databases)\n",
    "* [OmicsDI Databases List](https://www.omicsdi.org/database)"
   ]
  },
  {
   "cell_type": "markdown",
   "metadata": {},
   "source": [
    "## NCBI GenBank Record Format\n",
    "Each database stores the information with unified database IDs. For each sequence the NCBI Nucleotide database stores records with accession number as ID, NCBI GenBank stores records with Gene ID and some extra information such as the species that it came from, publications describing the sequence, etc.\n",
    "\n",
    "To view the GenBank entry for the DEN-1 Dengue virus, follow these steps:\n",
    "1. Go to the NCBI website (www.ncbi.nlm.nih.gov).\n",
    "2. Search for the accession number NC_001477.\n",
    "3. Since we searched for a particular accession we are only returned a single main result which is titled “NUCLEOTIDE SEQUENCE: Dengue virus 1, complete genome.”\n",
    "4. Click on “Dengue virus 1, complete genome” to go to the GenBank entry.\n",
    "The GenBank entry for an accession contains a lot of information about the sequence, such as papers describing it, features in the sequence, etc. The DEFINITION field gives a short description for the sequence. The ORGANISM field in the NCBI entry identifies the species that the sequence came from. The REFERENCE field contains scientific publications describing the sequence. The FEATURES field contains information about the location of features of interest inside the sequence, such as regulatory sequences or genes that lie inside the sequence. The ORIGIN field gives the sequence itself."
   ]
  },
  {
   "cell_type": "markdown",
   "metadata": {},
   "source": [
    "<img src=https://image2.slideserve.com/4384911/a-traditional-genbank-record-l.jpg width=\"800\" class=\"center\">"
   ]
  },
  {
   "cell_type": "markdown",
   "metadata": {},
   "source": [
    "**Figure 1.** A typical NCBI Nucleotide database record."
   ]
  },
  {
   "cell_type": "markdown",
   "metadata": {},
   "source": [
    "[This page](https://www.ncbi.nlm.nih.gov/genbank/samplerecord/) presents an annotated sample GenBank record (accession number U49845) in its GenBank Flat File format. You can find explanation of the information fields."
   ]
  },
  {
   "cell_type": "markdown",
   "metadata": {},
   "source": [
    "### The FASTA file format\n",
    "The FASTA file format is a simple file format commonly used to store and share sequence information. When you download sequences from databases such as NCBI you usually want FASTA files.\n",
    "\n",
    "The first line of a FASTA file starts with the “greater than” character (>) followed by a name and/or description for the sequence. Subsequent lines contain the sequence itself. A short FASTA file might contain just something like this:\n",
    "```\n",
    ">U49845.1 Saccharomyces cerevisiae TCP1-beta gene, partial cds; and Axl2p (AXL2) and Rev7p (REV7) genes, complete cds\n",
    "GATCCTCCATATACAACGGTATCTCCACCTCAGGTTTAGATCTCAACAACGGAACCATTGCCGACATGAG\n",
    "ACAGTTAGGTATCGTCGAGAGTTACAAGCTAAAACGAGCAGTAGTCAGCTCTGCATCTGAAGCCGCTGAA\n",
    "```\n",
    "A FASTA file can contain the sequence for a single, an entire genome, or more than one sequence. If a FASTA file contains many sequences, then for each sequence it will have a header line starting with a greater than character followed by the sequence itself.\n",
    "\n",
    "This is what a FASTA file with two sequence looks like.\n",
    "```\n",
    ">mysequence1\n",
    "GATCCTCCATATACAACGGTATCTCCACCTCAGGTTTAGATCTCAACAACGGAACCATTGCCGACATGAG\n",
    "ACAGTTAGGTATCGTCGAGAGTTACAAGCTAAAACGAGCAGTAGTCAGCTCTGCATCTGAAGCCGCTGAA\n",
    "\n",
    ">mysequence2\n",
    "GTTCTACTAAGGGTGGATAACATCATCCGTGCAAGACCAAGAACCGCCAATAGACAACATATGTAACATA\n",
    "TTTAGGATATACCTCGAAAATAATAAACCGCCACACTGTCATTATTATAATTAGAAACAGAACGCAAAAA\n",
    "TTATCCACTATATAATTCAAAGACGCGAAAAAAAAA\n",
    "```"
   ]
  },
  {
   "cell_type": "markdown",
   "metadata": {},
   "source": [
    "### Querying the NCBI Database\n",
    "You may need to interrogate the NCBI Database to find particular sequences or a set of sequences matching given criteria, such as:\n",
    "\n",
    "The sequence with accession NC_001477\n",
    "All sequences from Chlamydia trachomatis\n",
    "Flagellin or fibrinogen sequences\n",
    "The glutamine synthetase gene from Mycobacteriuma leprae\n",
    "Just the upstream control region of the Mycobacterium leprae dnaA gene\n",
    "The sequence of the Mycobacterium leprae DnaA protein\n",
    "The genome sequence of syphilis, Treponema pallidum subspp. pallidum\n",
    "All human nucleotide sequences associated with malaria\n",
    "\n",
    "There are two main ways that you can query the NCBI database to find these sets of sequences. The first possibility is to carry out searches on the NCBI website. The second possibility is to carry out searches from R or Python packages that can interface with NCBI.\n",
    "\n",
    "**Querying the NCBI Database via the NCBI Website:**\n",
    "\n",
    "If you are carrying out searches on the NCBI website, to narrow down your searches to specific types of sequences or to specific organisms, you will need to use “search tags”.\n",
    "\n",
    "For example, the search tags “[PROP]” and “[ORGN]” let you restrict your search to a specific subset of the NCBI Sequence Database, or to sequences from a particular taxon, respectively. Here is a list of useful search tags, which we will explain how to use below:\n",
    "\n",
    "* [AC], e.g. NC_001477[AC] With a particular accession number\n",
    "* [ORGN], e.g. Fungi[ORGN] From a particular organism or taxon\n",
    "* [PROP], e.g. biomol_mRNA[PROP] Of a specific type (eg. mRNA) or from a specific database (eg. RefSeq)\n",
    "\n",
    "To carry out searches of the NCBI database, you first need to go to the NCBI website, and type your search query into the search box at the top. For example, to search for all sequences from Fungi, you would type “Fungi[ORGN]” into the search box on the NCBI website.\n",
    "\n",
    "You can combine the search tags above by using “AND”, to make more complex searches. For example, to find all mRNA sequences from Fungi, you could type “Fungi[ORGN] AND biomol_mRNA[PROP]” in the search box on the NCBI website.\n",
    "\n",
    "Likewise, you can also combine search tags by using “OR”, for example, to search for all mRNA sequences from Fungi or Bacteria, you would type “(Fungi[ORGN] OR Bacteria[ORGN]) AND biomol_mRNA[PROP]” in the search box. Note that you need to put brackets around “Fungi[ORGN] OR Bacteria[ORGN]” to specify that the word “OR” refers to these two search tags.\n",
    "\n",
    "Here are some examples of searches, some of them made by combining search terms using “AND”:\n",
    "\n",
    "* NC_001477[AC] - With accession number NC_001477\n",
    "* “Chlamydia trachomatis”[ORGN] - From the bacterium Chlamydia trachomatis\n",
    "* flagellin OR fibrinogen - Which contain the word “flagellin” or “fibrinogen” in their NCBI record\n",
    "* “Mycobacterium leprae”[ORGN] AND dnaA - Which are from M. leprae, and contain “dnaA” in their NCBI record\n",
    "* “Homo sapiens”[ORGN] AND “colon cancer” - Which are from human, and contain “colon cancer” in their NCBI record\n",
    "* “Homo sapiens”[ORGN] AND malaria - Which are from human, and contain “malaria” in their NCBI record\n",
    "* “Homo sapiens”[ORGN] AND biomol_mrna[PROP] - Which are mRNA sequences from human\n",
    "* “Bacteria”[ORGN] AND srcdb_refseq[PROP] - Which are RefSeq sequences from Bacteria\n",
    "* “colon cancer” AND srcdb_refseq[PROP] - From RefSeq, which contain “colon cancer” in their NCBI record\n",
    "\n",
    "Note that if you are searching for a phrase such as “colon cancer” or “Chlamydia trachomatis”, you need to put the phrase in quotes when typing it into the search box. This is because if you type the phrase in the search box without quotes, the search will be for NCBI records that contain either of the two words “colon” or “cancer” (or either of the two words “Chlamydia” or “trachomatis”), not necessarily both words.\n",
    "\n",
    "NCBI database contains several sub-databases, including the NCBI Nucleotide database and the NCBI Protein database. If you go to the NCBI website, and type one of the search queries above in the search box at the top of the page, the results page will tell you how many matching NCBI records were found in each of the NCBI sub-databases.\n",
    "\n",
    "For example, if you search for “Chlamydia trachomatis[ORGN]”, you will get matches to proteins from C. trachomatis in the NCBI Protein database, matches to DNA and RNA sequences from C. trachomatis in the NCBI Nucleotide database, matches to whole genome sequences for C. trachomatis strains in the NCBI Genome database, and so on:\n",
    "\n",
    "Alternatively, if you know in advance that you want to search a particular sub-database, for example, the NCBI Protein database, when you go to the NCBI website, you can select that sub-database from the drop-down list above the search box, so that you will search that sub-database."
   ]
  },
  {
   "cell_type": "markdown",
   "metadata": {},
   "source": [
    "## Downloading genome data from NCBI"
   ]
  },
  {
   "cell_type": "markdown",
   "metadata": {},
   "source": [
    "[Jupyter Notebook: Downloading genome data from NCBI with Biopython and Entrez]()"
   ]
  }
 ],
 "metadata": {
  "kernelspec": {
   "display_name": "Python 3 (ipykernel)",
   "language": "python",
   "name": "python3"
  },
  "language_info": {
   "codemirror_mode": {
    "name": "ipython",
    "version": 3
   },
   "file_extension": ".py",
   "mimetype": "text/x-python",
   "name": "python",
   "nbconvert_exporter": "python",
   "pygments_lexer": "ipython3",
   "version": "3.11.5"
  }
 },
 "nbformat": 4,
 "nbformat_minor": 4
}
