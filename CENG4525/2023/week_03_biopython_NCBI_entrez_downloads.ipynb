{
 "cells": [
  {
   "cell_type": "markdown",
   "metadata": {
    "cell_id": "09c42ed85c504d5e937436b2af9f703e",
    "deepnote_cell_type": "markdown"
   },
   "source": [
    "# Downloading genome data from NCBI with `Biopython` and `Entrez`"
   ]
  },
  {
   "cell_type": "markdown",
   "metadata": {
    "cell_id": "71b893d7a4174e0b843b3e95d0a688a8",
    "deepnote_cell_type": "markdown"
   },
   "source": [
    "## Introduction\n",
    "\n",
    "In this worksheet, you will use [`Biopython`](http://biopython.org/) to download pathogen genome data from [`NCBI`](http://www.ncbi.nlm.nih.gov/) programmatically with Python. \n",
    "\n",
    "It is possible to obtain the same data by point-and-click from a browser, at the terminal using a program like `wget`, or by other means, but scripting data downloads in this way has advantages, such as:\n",
    "\n",
    "* **automation** - only one script is required to download many sequences\n",
    "* **reproducibility** - the same data will be downloaded each time, and copy-paste errors will be avoided\n",
    "* **self-documentation** - the script itself describes exactly how the data was obtained\n",
    "* **future adaptability (and reuse)** - only minor changes to the script may be required for the next analysis or project"
   ]
  },
  {
   "cell_type": "markdown",
   "metadata": {
    "cell_id": "6f4c180ad9a14d73bf7492913bb49b1d",
    "deepnote_cell_type": "markdown"
   },
   "source": [
    "<div class=\"alert alert-warning\">\n",
    "<b>Note: large data sets</b>: if you wish to download large datasets, then using <b>wget</b>, <b>ftp</b> or other methods can be better than programmatic access <i>via</i> <b>Entrez</b>. The <b>Entrez</b> interface may give errors during through large downloads, and is not designed for large data transfers.\n",
    "</div>"
   ]
  },
  {
   "cell_type": "markdown",
   "metadata": {
    "cell_id": "8847deec3b7e43f6bc6574da3a39f024",
    "deepnote_cell_type": "markdown"
   },
   "source": [
    "This Jupyter notebook provides some examples of scripting genome downloads from `NCBI` singly, and in groups. This method of obtaining genome data uses the [`Entrez`](http://www.ncbi.nlm.nih.gov/Class/MLACourse/Original8Hour/Entrez/) interface that NCBI provides for automated querying of its data."
   ]
  },
  {
   "cell_type": "markdown",
   "metadata": {
    "cell_id": "536a30e8b11e4399b697dfbe9e502dd8",
    "deepnote_cell_type": "markdown"
   },
   "source": [
    "### Related online documentation\n",
    "\n",
    "* `Biopython` tutorial for `Entrez`: [http://biopython.org/DIST/docs/tutorial/Tutorial.html#htoc109](http://biopython.org/DIST/docs/tutorial/Tutorial.html#htoc109)\n",
    "* `Biopython` technical documentation for `Bio.Entrez`: [http://biopython.org/DIST/docs/api/Bio.Entrez-module.html](http://biopython.org/DIST/docs/api/Bio.Entrez-module.html)\n",
    "* `Entrez` introductory documentation at `NCBI`: [http://www.ncbi.nlm.nih.gov/books/NBK25497/](http://www.ncbi.nlm.nih.gov/books/NBK25497/)\n",
    "* `Entrez` help: [http://www.ncbi.nlm.nih.gov/books/NBK3837/](http://www.ncbi.nlm.nih.gov/books/NBK3837/)\n",
    "* `Entrez` Quick Start Guide: [http://www.ncbi.nlm.nih.gov/books/NBK25500/](http://www.ncbi.nlm.nih.gov/books/NBK25500/)"
   ]
  },
  {
   "cell_type": "markdown",
   "metadata": {
    "cell_id": "64c2680a0b734b47b488d1d7f25f8df1",
    "deepnote_cell_type": "markdown"
   },
   "source": [
    "### Requirements\n",
    "To complete this worksheet, you will need:\n",
    "* Active internet connection\n",
    "* Installed the <b>Biopython</b> libraries"
   ]
  },
  {
   "cell_type": "code",
   "execution_count": 5,
   "metadata": {},
   "outputs": [],
   "source": [
    "# Install BioPython on local computer\n",
    "#!pip3 install biopython"
   ]
  },
  {
   "cell_type": "markdown",
   "metadata": {},
   "source": [
    "### Setup on Google Colab"
   ]
  },
  {
   "cell_type": "code",
   "execution_count": 2,
   "metadata": {},
   "outputs": [],
   "source": [
    "try:\n",
    "    import google.colab\n",
    "    # Running on Google Colab, so install Biopython first\n",
    "    !pip install biopython\n",
    "except ImportError:\n",
    "    pass"
   ]
  },
  {
   "cell_type": "code",
   "execution_count": null,
   "metadata": {},
   "outputs": [],
   "source": [
    "import os\n",
    "import sys\n",
    "\n",
    "from urllib.request import urlretrieve\n",
    "\n",
    "import Bio\n",
    "from Bio import SeqIO, SearchIO, Entrez\n",
    "from Bio.Seq import Seq\n",
    "from Bio.SeqUtils import GC\n",
    "from Bio.Blast import NCBIWWW\n",
    "from Bio.Data import CodonTable\n",
    "\n",
    "print(\"Python version:\", sys.version_info)\n",
    "print(\"Biopython version:\", Bio.__version__)"
   ]
  },
  {
   "cell_type": "markdown",
   "metadata": {
    "cell_id": "bc05ab6da55c4210bcec6ec5fe4a79c5",
    "deepnote_cell_type": "markdown"
   },
   "source": [
    "## `Entrez`\n",
    "\n",
    "[`Entrez`](http://www.ncbi.nlm.nih.gov/Class/MLACourse/Original8Hour/Entrez/) is the name `NCBI` give to the tools they provide as a computational interface to the data they hold across their genomic and other databases (e.g. `PubMed`). Many scripts and programs that interact with `NCBI` to download data (e.g. from GenBank or RefSeq) will be using this set of tools."
   ]
  },
  {
   "cell_type": "markdown",
   "metadata": {
    "cell_id": "14a4bc16bcb645fc817aa4209cab9cad",
    "deepnote_cell_type": "markdown"
   },
   "source": [
    "<div class=\"alert alert-warning\">\n",
    "**Caveats**\n",
    "\n",
    "There are usage caps for this service, and it is possible to over-use <b>Entrez</b>. If this happens, you or your IP address may be blacklisted. In order to avoid this, you should keep to the following guidelines:\n",
    "\n",
    "* Make no more than three URL requests per second\n",
    "* Make large queries outwith the hours of 0900-1700 EST (1400-2200 GMT)\n",
    "* Provide your email address as an identifier when querying\n",
    "\n",
    "Programming libraries, such as <b>Biopython</b>'s <b>Bio.Entrez</b> module, will usually help you stay within those guidelines by limiting the frequency of queries, and insisting that you provide an email address.\n",
    "</div>"
   ]
  },
  {
   "cell_type": "markdown",
   "metadata": {
    "cell_id": "2dc63a63b46c428db6837ce5c7b6f133",
    "deepnote_cell_type": "markdown"
   },
   "source": [
    "## `Biopython` and `Bio.Entrez`\n",
    "\n",
    "[`Biopython`](http://biopython.org/) is a widely-used library, providing bioinformatics tools for the popular [Python](https://www.python.org/) programming language. Similar libraries exist for other programming languages.\n",
    "\n",
    "`Bio.Entrez` is a module of `Biopython` that provides tools to make queries against the `NCBI` databases using the `Entrez` interface."
   ]
  },
  {
   "cell_type": "markdown",
   "metadata": {
    "cell_id": "b30c266d39a04fd3860a5eaf03a0e30b",
    "deepnote_cell_type": "markdown"
   },
   "source": [
    "## Connecting to `NCBI`\n",
    "\n",
    "In order to use the `Bio.Entrez` module, you need to *import* it. This is how modules become available for use in Python."
   ]
  },
  {
   "cell_type": "markdown",
   "metadata": {
    "cell_id": "47b7ae58e7e444b7b8b85a3619e31df7",
    "deepnote_cell_type": "markdown"
   },
   "source": [
    "<div class=\"alert alert-info\" role=\"alert\">\n",
    "It is good practice at this point to specify your email, so that <b>NCBI</b> can contact you in case of problems (or if you are likely to become blacklisted through excessive use). It is also good practice to specify a '<b>tool</b>' that is the script making the call.\n",
    "</div>"
   ]
  },
  {
   "cell_type": "code",
   "execution_count": 1,
   "metadata": {
    "cell_id": "827461f3434848608614adbb330349ca",
    "collapsed": false,
    "deepnote_cell_type": "code",
    "jupyter": {
     "outputs_hidden": false
    }
   },
   "outputs": [],
   "source": [
    "# This line imports the Bio.Entrez module, and makes it available\n",
    "# as 'Entrez'.\n",
    "from Bio import Entrez\n",
    "\n",
    "# The line below imports the Bio.SeqIO module, which allows reading\n",
    "# and writing of common bioinformatics sequence formats.\n",
    "from Bio import SeqIO\n",
    "\n",
    "# Create a new directory (if needed) for output/downloads\n",
    "import os\n",
    "outdir = \"ncbi_downloads\"\n",
    "os.makedirs(outdir, exist_ok=True)\n",
    "\n",
    "# This line sets the variable 'Entrez.email' to the specified\n",
    "# email address. You should substitute your own address for the\n",
    "# example address provided below. Please do not provide a\n",
    "# fake name.\n",
    "Entrez.email = \"namesurname@posta.mu.edu.tr\"\n",
    "\n",
    "# This line sets the name of the tool that is making the queries\n",
    "Entrez.tool = \"week_03_biopython_NCBI_entrez_downloads.ipynb\""
   ]
  },
  {
   "cell_type": "markdown",
   "metadata": {
    "cell_id": "c7e72a7e8ddd4defa70186a74a37911e",
    "deepnote_cell_type": "markdown"
   },
   "source": [
    "## Using `Bio.Entrez` to list available databases\n",
    "\n",
    "When you send a query or request to `NCBI` using `Bio.Entrez`, the remote service will send back data in [XML](https://en.wikipedia.org/wiki/XML) format. This is a file format designed to be easy for computers to read, but is very verbose and difficult to read for humans.\n",
    "\n",
    "The `Bio.Entrez` module can `read()` this data so that you can extract useful information.\n",
    "\n",
    "In the example below, you will ask `NCBI` for a list of the databases you can search by using the `Entrez.einfo()` function. This will return a *handle* containing the XML response from `NCBI`. This will be *read* into a record that you can inspect and manipulate, by the `Entrez.read()` function."
   ]
  },
  {
   "cell_type": "code",
   "execution_count": 2,
   "metadata": {
    "cell_id": "cb0bb049b3be4065912dbda958e47dbf",
    "deepnote_cell_type": "code"
   },
   "outputs": [],
   "source": [
    "# The line below uses the Entrez.einfo() function to\n",
    "# ask NCBI what databases are available. The result is\n",
    "# 'stored' in a variable called 'handle'\n",
    "handle = Entrez.einfo()\n",
    "\n",
    "# In the line below, the response from NCBI is read\n",
    "# into a record, that organises NCBI's response into\n",
    "# something you can work with.\n",
    "record = Entrez.read(handle)"
   ]
  },
  {
   "cell_type": "markdown",
   "metadata": {
    "cell_id": "de189d5e1d824bda9a4e5c59f38e016f",
    "deepnote_cell_type": "markdown"
   },
   "source": [
    "The variable `record` contains a list of the available databases at `NCBI`, which you can see by executing the cell below:"
   ]
  },
  {
   "cell_type": "code",
   "execution_count": null,
   "metadata": {},
   "outputs": [],
   "source": [
    "print(record)"
   ]
  },
  {
   "cell_type": "code",
   "execution_count": null,
   "metadata": {},
   "outputs": [],
   "source": [
    "print(record[\"DbList\"])"
   ]
  },
  {
   "cell_type": "markdown",
   "metadata": {},
   "source": [
    "For each of these databases, we can use EInfo again to obtain more information:"
   ]
  },
  {
   "cell_type": "code",
   "execution_count": null,
   "metadata": {},
   "outputs": [],
   "source": [
    "from Bio import Entrez\n",
    "handle = Entrez.einfo(db=\"nucleotide\")\n",
    "record = Entrez.read(handle)\n",
    "print(record)\n",
    "record[\"DbInfo\"][\"Description\"]"
   ]
  },
  {
   "cell_type": "markdown",
   "metadata": {
    "cell_id": "4315841603104720a2116ddc1991852e",
    "deepnote_cell_type": "markdown"
   },
   "source": [
    "`Entrez` allows you to query these databases using `Entrez.esearch()` in much the same way that you just obtained the list of databases with `Entrez.einfo()`."
   ]
  },
  {
   "cell_type": "markdown",
   "metadata": {
    "cell_id": "5dc88031ead84949871195999520864a",
    "deepnote_cell_type": "markdown"
   },
   "source": [
    "## Using `Bio.Entrez` to find genome assemblies at `NCBI`\n",
    "\n",
    "In the cells below, you will use `Bio.Entrez` to identify assemblies for the bacterial plant pathogen *Ralstonia solanacearum*. As our interest is genome data, we will query against the [`assembly`](http://www.ncbi.nlm.nih.gov/assembly) database at `NCBI`. This database contains entries for all genome assemblies, whether complete or draft.\n",
    "\n",
    "We are interested in *Ralstonia solanacearum*, so will search against the `assembly` database with the text `\"Ralstonia solanacearum\"` as a query. The function that allows us to do this is `Entrez.esearch()`. By default, searches are limited to 20 results (as on the `NCBI` webpage), but we can change this."
   ]
  },
  {
   "cell_type": "code",
   "execution_count": 4,
   "metadata": {
    "cell_id": "52d8246e05664c51843d9a0b347ccb00",
    "deepnote_cell_type": "code"
   },
   "outputs": [],
   "source": [
    "# The line below carries out a search of the `assembly` database at NCBI,\n",
    "# using the phrase `Ralstonia solanacearum` as the search query,\n",
    "# and asks NCBI to return up to the first 100 results\n",
    "handle = Entrez.esearch(db=\"assembly\", term=\"Ralstonia solanacearum\", retmax=100)\n",
    "\n",
    "# This line converts the returned information from NCBI into a form we\n",
    "# can use, as before.\n",
    "record = Entrez.read(handle)"
   ]
  },
  {
   "cell_type": "markdown",
   "metadata": {
    "cell_id": "170eb92e24754badacc8688d2c945d2a",
    "deepnote_cell_type": "markdown"
   },
   "source": [
    "The returned information can be viewed by running the cell below.\n",
    "\n",
    "The output may look confusing at first, but it simply describes the database identifiers that uniquely identify the assemblies present in the `assembly` database that correspond to the query we made, and a few other pieces of information (number of returned entries, total number of entries that could have been returned, how the query was processed) that we do not need, right now."
   ]
  },
  {
   "cell_type": "code",
   "execution_count": null,
   "metadata": {},
   "outputs": [],
   "source": [
    "# This line prints the downloaded information from NCBI, so we can read it.\n",
    "print(record)"
   ]
  },
  {
   "cell_type": "markdown",
   "metadata": {
    "cell_id": "d9a29fd5516842b5bea9eb9334bdd759",
    "deepnote_cell_type": "markdown"
   },
   "source": [
    "For now, we are interested in the list of database identifiers, in `record['IdList']`. We will use these to get information from the `assembly` database.\n",
    "\n",
    "We will look at a single record first, and then consider how to get all the *Ralstonia* genomes at the same time."
   ]
  },
  {
   "cell_type": "markdown",
   "metadata": {},
   "source": [
    "`ESummary` retrieves document summaries from a list of primary IDs (see the ESummary help page for more information). In Biopython, ESummary is available as `Bio.Entrez.esummary()`. Using the search result above, we can for example find out more about the record with accession: 17412981"
   ]
  },
  {
   "cell_type": "code",
   "execution_count": null,
   "metadata": {},
   "outputs": [],
   "source": [
    "from Bio import Entrez\n",
    "Entrez.email = \"namesurname@posta.mu.edu.tr\"     # Always tell NCBI who you are\n",
    "handle = Entrez.esummary(db=\"nucleotide\", term=\"Ralstonia solanacearum\", id=\"17412981\")\n",
    "record = Entrez.read(handle)\n",
    "info = record[0]\n",
    "print(info)\n",
    "print(\"\\nExtracted Info:\")\n",
    "print(\"ID\\nid: {}\\nTitle: {}\".format(record[0][\"Id\"], info[\"Title\"]))"
   ]
  },
  {
   "cell_type": "markdown",
   "metadata": {
    "cell_id": "0892fe4d41984c6f9ee9854289fee19a",
    "deepnote_cell_type": "markdown"
   },
   "source": [
    "## Fetching sequence records from `NCBI`\n",
    "\n",
    "Now we have accession UIDs for the nucleotide sequences of the assembly, you will use `Entrez.efetch` as before to *fetch*  each sequence record from NCBI.\n",
    "\n",
    "We need to tell `NCBI` which database we want to use (in this case, `nucleotide`), and the identifiers for the records (the values in `nuc_uids`). To get all the data at the same time, we can join the accession ids into a single string, with commas to separate the individual UIDs.\n",
    "\n",
    "We will also tell `NCBI` two further pieces of information:\n",
    "\n",
    "1. The format we want the data returned in. We will ask for GenBank format (`gbwithparts`) to obtain the genome sequence and feature annotations.\n",
    "2. How we want the data returned. We will ask for plain text (`text`)."
   ]
  },
  {
   "cell_type": "code",
   "execution_count": null,
   "metadata": {},
   "outputs": [],
   "source": [
    "# The lines below retrieve (fetch) the GenBank record\n",
    "from Bio import Entrez\n",
    "Entrez.email = \"namesurname@posta.mu.edu.tr\"     # Always tell NCBI who you are\n",
    "handle = Entrez.efetch(db=\"nucleotide\", id=\"17412981\", rettype=\"gb\", retmode=\"text\")\n",
    "print(handle.read())"
   ]
  },
  {
   "cell_type": "markdown",
   "metadata": {
    "cell_id": "77da40e3f45546498f346d48cecab18d",
    "deepnote_cell_type": "markdown"
   },
   "source": [
    "The arguments rettype=\"gb\" and retmode=\"text\" let us download this record in the GenBank format.\n",
    "\n",
    "Note that until Easter 2009, the `Entrez EFetch API` let you use “genbank” as the return type, however the NCBI now insist on using the official return types of “gb” or “gbwithparts” (or “gp” for proteins) as described on online. Also not that until Feb 2012, the Entrez `EFetch API` would default to returning plain text files, but now defaults to `XML`.\n",
    "\n",
    "Alternatively, you could for example use `rettype=\"fasta\"` to get the Fasta-format; see the `EFetch` Sequences Help page for other options. Remember – the available formats depend on which database you are downloading from - see the main EFetch Help page.\n",
    "\n",
    "If you fetch the record in one of the formats accepted by `Bio.SeqIO` (see Chapter [chapter:Bio.SeqIO]), you could directly parse it into a SeqRecord:"
   ]
  },
  {
   "cell_type": "code",
   "execution_count": null,
   "metadata": {},
   "outputs": [],
   "source": [
    "from Bio import Entrez, SeqIO\n",
    "handle = Entrez.efetch(db=\"nucleotide\", id=\"17412981\", rettype=\"gb\", retmode=\"text\")\n",
    "record = SeqIO.read(handle, \"genbank\")\n",
    "handle.close()\n",
    "print(record)"
   ]
  },
  {
   "cell_type": "markdown",
   "metadata": {},
   "source": [
    "Note that a more typical use would be to save the sequence data to a local file, and then parse it with `Bio.SeqIO`. This can save you having to re-download the same file repeatedly while working on your script, and places less load on the NCBI’s servers. For example:"
   ]
  },
  {
   "cell_type": "code",
   "execution_count": null,
   "metadata": {},
   "outputs": [],
   "source": [
    "import os\n",
    "from Bio import SeqIO\n",
    "from Bio import Entrez\n",
    "Entrez.email = \"namesurname@posta.mu.edu.tr\"     # Always tell NCBI who you are\n",
    "filename = \"gi_17412981.gbk\"\n",
    "if not os.path.isfile(filename):\n",
    "    # Downloading and writing to file\n",
    "    with Entrez.efetch(db=\"nucleotide\",id=\"17412981\",rettype=\"gb\", retmode=\"text\") as net_handle:\n",
    "        with open(filename, \"w\") as out_handle:\n",
    "            out_handle.write(net_handle.read())\n",
    "        print(\"Saved\")\n",
    "\n",
    "print(\"Parsing...\")\n",
    "record = SeqIO.read(filename, \"genbank\")\n",
    "print(record)"
   ]
  },
  {
   "cell_type": "markdown",
   "metadata": {
    "cell_id": "856e9f76912d4d31b32971967a9774ea",
    "collapsed": true,
    "deepnote_cell_type": "markdown",
    "jupyter": {
     "outputs_hidden": true
    }
   },
   "source": [
    "### Writing sequence data with `Biopython`\n",
    "\n",
    "The `SeqIO` module can be used to write sequence data out to a file on your local hard drive. You will do this in the cells below, using the `SeqIO.write()` function.\n",
    "\n",
    "<div class=\"alert alert-info\" role=\"alert\">\n",
    "The <b>SeqRecord</b>s you downloaded contain sequence and feature annotation data, and can be written in any of several file formats. Some of these formats preserve annotation information, and some do not.\n",
    "</div>\n",
    "\n",
    "Firstly, in the cell below, you will write GenBank format files that preserve both sequence and annotation data. For the `SeqIO.write()` function, we need to specify the list of `SeqRecord`s (`records`), the output filename to which they will be written, and the format we wish to write (in this case `\"genbank\"`)."
   ]
  },
  {
   "cell_type": "code",
   "execution_count": null,
   "metadata": {},
   "outputs": [],
   "source": [
    "# The line below writes the sequence data in 'seqdata' to\n",
    "# the local file \"data/ralstonia.gbk\", in GenBank format.\n",
    "# The function returns the number of sequences that were written to file\n",
    "SeqIO.write(record, os.path.join(outdir, \"gi_17412981.gbk\"), \"genbank\")"
   ]
  },
  {
   "cell_type": "markdown",
   "metadata": {
    "cell_id": "5b89b3a05a0446f3b04d05d46949c337",
    "deepnote_cell_type": "markdown"
   },
   "source": [
    "If you inspect the newly-created `ralstonia.gbk` file, you should see that it contains complete GenBank records, describing this genome.\n",
    "\n",
    "GenBank files are detailed and large, and sometimes we only want to consider the genome sequence itself, not its annotation. The FASTA sequence can be written out on its own by specifyinf the `\"fasta\"` format to `SeqIO.write()` instead. This time, we write the output to `data/ralstonia.fasta`."
   ]
  },
  {
   "cell_type": "code",
   "execution_count": null,
   "metadata": {},
   "outputs": [],
   "source": [
    "# The line below writes the sequence data in 'seqdata' to\n",
    "# the local file \"data/ralstonia.fasta\", in FASTA format.\n",
    "SeqIO.write(record, os.path.join(outdir, \"ralstonia.fasta\"), \"fasta\")"
   ]
  },
  {
   "cell_type": "markdown",
   "metadata": {
    "cell_id": "2cd43d3b15554531aa27c473d9eda4d8",
    "deepnote_cell_type": "markdown"
   },
   "source": [
    "## Downloading a single genome from `NCBI`\n",
    "\n",
    "In this section, you will use one of the database identifiers returned from your search at `NCBI` to identify and download the GenBank records corresponding to a single assembly of *Ralstonia solanacearum*.\n",
    "\n",
    "To do this, we will select a single accession from the list in `record[\"IdList\"]`, using the code in the cell below. "
   ]
  },
  {
   "cell_type": "markdown",
   "metadata": {
    "cell_id": "9b0d4710f4a04ed39d5a083aeeb5299d",
    "deepnote_cell_type": "markdown"
   },
   "source": [
    "<div class=\"alert alert-danger\" role=\"alert\">\n",
    "Although this is a single assembly, with a single accession ID, we shall see that we need to download more than one sequence to cover the complete genome.\n",
    "</div>"
   ]
  },
  {
   "cell_type": "code",
   "execution_count": null,
   "metadata": {},
   "outputs": [],
   "source": [
    "# The line below carries out a search of the `assembly` database at NCBI,\n",
    "# using the phrase `Ralstonia solanacearum` as the search query,\n",
    "# and asks NCBI to return up to the first 100 results\n",
    "handle = Entrez.esearch(db=\"assembly\", term=\"Ralstonia solanacearum\", retmax=100)\n",
    "\n",
    "# This line converts the returned information from NCBI into a form we\n",
    "# can use, as before.\n",
    "record = Entrez.read(handle)\n",
    "\n",
    "# The line below takes the first value in the list of \n",
    "# database accessions record[\"IdList\"], and places it in\n",
    "# the variable 'accession'\n",
    "accession = record[\"IdList\"][0]\n",
    "print(\"Accession:\", accession)\n",
    "\n",
    "print('The record is from the {}.'.format(record[\"TranslationSet\"]))\n",
    "print('The IdList:')\n",
    "for link in record[\"IdList\"]:\n",
    "    print(link)"
   ]
  },
  {
   "cell_type": "markdown",
   "metadata": {
    "cell_id": "f2bacd99b3fb4caf802c71f35e9e7246",
    "deepnote_cell_type": "markdown"
   },
   "source": [
    "### Linking across databases\n",
    "\n",
    "<div class=\"alert alert-info\" role=\"alert\">\n",
    "There is a complicating factor: assemblies may not be a single complete sequence, and could comprise several contigs, or a chromosome and several extrachromosomal elements, all annotated independently. These are stored independently in a different database, called <b>nucleotide</b>, and each has an individual accession.  \n",
    "\n",
    "We need to <i>link</i> the <b>assembly</b> accession to each of the <b>nucleotide</b> accessions.\n",
    "\n",
    "This is a common requirement when querying <b>NCBI</b> databases, and is achieved using the <b>Entrez.elink()</b> function.\n",
    "\n",
    "We need to specify the database for which we have the accession (or `UID`), and which database we want to query for related records (in this case, `nucleotide`).  \n",
    "</div>"
   ]
  },
  {
   "cell_type": "code",
   "execution_count": null,
   "metadata": {},
   "outputs": [],
   "source": [
    "# The line below requests the identifiers (UIDs) for all\n",
    "# records in the `nucleotide` database that correspond to the\n",
    "# assembly UID that is stored in the variable 'accession'\n",
    "handle = Entrez.elink(dbfrom=\"assembly\", db=\"nucleotide\", from_uid=accession)\n",
    "\n",
    "# We place the downloaded information in the variable 'links'\n",
    "links = Entrez.read(handle)\n",
    "print(links)"
   ]
  },
  {
   "cell_type": "markdown",
   "metadata": {},
   "source": [
    "The `links` variable may contain links to more than one version of the genome (`NCBI` keep third-party managed genome data in GenBank/INSDC records, and `NCBI`-'owned' data in RefSeq records). \n",
    "\n",
    "The function below extracts only the INSDC information from the `Elink()` query. It is ***not*** important that you understand the code."
   ]
  },
  {
   "cell_type": "markdown",
   "metadata": {},
   "source": [
    "## Homework\n",
    "Prepare a Jupyter notebook to achive the goals below and upload to 'Homeworks/Week_03' folder under Google Drive directory of the course.\n",
    "* Download the genome entries of _Ralstonia solanacearum_ into a single fasta file using `Entrez.elink`"
   ]
  }
 ],
 "metadata": {
  "deepnote": {},
  "deepnote_execution_queue": [],
  "deepnote_notebook_id": "bd12d7cbe0024f078601fba3069a9b83",
  "kernelspec": {
   "display_name": "Python 3 (ipykernel)",
   "language": "python",
   "name": "python3"
  },
  "language_info": {
   "codemirror_mode": {
    "name": "ipython",
    "version": 3
   },
   "file_extension": ".py",
   "mimetype": "text/x-python",
   "name": "python",
   "nbconvert_exporter": "python",
   "pygments_lexer": "ipython3",
   "version": "3.11.5"
  },
  "widgets": {
   "state": {},
   "version": "1.1.1"
  }
 },
 "nbformat": 4,
 "nbformat_minor": 4
}
